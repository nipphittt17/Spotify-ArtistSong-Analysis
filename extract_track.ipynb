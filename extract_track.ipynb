{
 "cells": [
  {
   "cell_type": "code",
   "execution_count": 1,
   "metadata": {},
   "outputs": [],
   "source": [
    "import pandas as pd\n",
    "import ast"
   ]
  },
  {
   "cell_type": "code",
   "execution_count": 2,
   "metadata": {},
   "outputs": [],
   "source": [
    "df = pd.read_csv(\"tay_songs_data.csv\")"
   ]
  },
  {
   "cell_type": "code",
   "execution_count": 3,
   "metadata": {},
   "outputs": [
    {
     "name": "stdout",
     "output_type": "stream",
     "text": [
      "Index(['Unnamed: 0', 'album', 'artists', 'disc_number', 'duration_ms',\n",
      "       'explicit', 'external_ids', 'external_urls', 'href', 'id', 'is_local',\n",
      "       'is_playable', 'name', 'popularity', 'preview_url', 'track_number',\n",
      "       'type', 'uri'],\n",
      "      dtype='object')\n"
     ]
    }
   ],
   "source": [
    "print(df.columns)"
   ]
  },
  {
   "cell_type": "code",
   "execution_count": 4,
   "metadata": {},
   "outputs": [],
   "source": [
    "albums_id = []\n",
    "for album in df[\"album\"]:\n",
    "    album_dict = ast.literal_eval(album)\n",
    "    albums_id.append(album_dict[\"id\"])\n"
   ]
  },
  {
   "cell_type": "code",
   "execution_count": 5,
   "metadata": {},
   "outputs": [],
   "source": [
    "album_id_series = pd.Series(albums_id , name='album_id')\n",
    "df['album_id'] = album_id_series\n"
   ]
  },
  {
   "cell_type": "code",
   "execution_count": 6,
   "metadata": {},
   "outputs": [],
   "source": [
    "new_df = df[[\"id\", \"name\",\"duration_ms\",\"href\",\"popularity\",\"uri\",\"album_id\"]]"
   ]
  },
  {
   "cell_type": "code",
   "execution_count": 8,
   "metadata": {},
   "outputs": [
    {
     "data": {
      "text/html": [
       "<div>\n",
       "<style scoped>\n",
       "    .dataframe tbody tr th:only-of-type {\n",
       "        vertical-align: middle;\n",
       "    }\n",
       "\n",
       "    .dataframe tbody tr th {\n",
       "        vertical-align: top;\n",
       "    }\n",
       "\n",
       "    .dataframe thead th {\n",
       "        text-align: right;\n",
       "    }\n",
       "</style>\n",
       "<table border=\"1\" class=\"dataframe\">\n",
       "  <thead>\n",
       "    <tr style=\"text-align: right;\">\n",
       "      <th></th>\n",
       "      <th>id</th>\n",
       "      <th>name</th>\n",
       "      <th>duration_ms</th>\n",
       "      <th>href</th>\n",
       "      <th>popularity</th>\n",
       "      <th>uri</th>\n",
       "      <th>album_id</th>\n",
       "    </tr>\n",
       "  </thead>\n",
       "  <tbody>\n",
       "    <tr>\n",
       "      <th>0</th>\n",
       "      <td>1gejz5ROvJBUb6WJzkMAcc</td>\n",
       "      <td>Fortnight (feat. Post Malone) - BLOND:ISH Remix</td>\n",
       "      <td>216979</td>\n",
       "      <td>https://api.spotify.com/v1/tracks/1gejz5ROvJBU...</td>\n",
       "      <td>65</td>\n",
       "      <td>spotify:track:1gejz5ROvJBUb6WJzkMAcc</td>\n",
       "      <td>1agEHpWnELaZHWzcbGDCpu</td>\n",
       "    </tr>\n",
       "    <tr>\n",
       "      <th>1</th>\n",
       "      <td>20nACtTlLpHqevuIVVD166</td>\n",
       "      <td>Fortnight (feat. Post Malone)</td>\n",
       "      <td>228965</td>\n",
       "      <td>https://api.spotify.com/v1/tracks/20nACtTlLpHq...</td>\n",
       "      <td>59</td>\n",
       "      <td>spotify:track:20nACtTlLpHqevuIVVD166</td>\n",
       "      <td>1agEHpWnELaZHWzcbGDCpu</td>\n",
       "    </tr>\n",
       "    <tr>\n",
       "      <th>2</th>\n",
       "      <td>1BxfuPKGuaTgP7aM0Bbdwr</td>\n",
       "      <td>Cruel Summer</td>\n",
       "      <td>178426</td>\n",
       "      <td>https://api.spotify.com/v1/tracks/1BxfuPKGuaTg...</td>\n",
       "      <td>94</td>\n",
       "      <td>spotify:track:1BxfuPKGuaTgP7aM0Bbdwr</td>\n",
       "      <td>1NAmidJlEaVgA3MpcPFYGq</td>\n",
       "    </tr>\n",
       "    <tr>\n",
       "      <th>3</th>\n",
       "      <td>2OzhQlSqBEmt7hmkYxfT6m</td>\n",
       "      <td>Fortnight (feat. Post Malone)</td>\n",
       "      <td>228965</td>\n",
       "      <td>https://api.spotify.com/v1/tracks/2OzhQlSqBEmt...</td>\n",
       "      <td>95</td>\n",
       "      <td>spotify:track:2OzhQlSqBEmt7hmkYxfT6m</td>\n",
       "      <td>1Mo4aZ8pdj6L1jx8zSwJnt</td>\n",
       "    </tr>\n",
       "    <tr>\n",
       "      <th>4</th>\n",
       "      <td>1dGr1c8CrMLDpV6mPbImSI</td>\n",
       "      <td>Lover</td>\n",
       "      <td>221306</td>\n",
       "      <td>https://api.spotify.com/v1/tracks/1dGr1c8CrMLD...</td>\n",
       "      <td>87</td>\n",
       "      <td>spotify:track:1dGr1c8CrMLDpV6mPbImSI</td>\n",
       "      <td>1NAmidJlEaVgA3MpcPFYGq</td>\n",
       "    </tr>\n",
       "  </tbody>\n",
       "</table>\n",
       "</div>"
      ],
      "text/plain": [
       "                       id                                             name  \\\n",
       "0  1gejz5ROvJBUb6WJzkMAcc  Fortnight (feat. Post Malone) - BLOND:ISH Remix   \n",
       "1  20nACtTlLpHqevuIVVD166                    Fortnight (feat. Post Malone)   \n",
       "2  1BxfuPKGuaTgP7aM0Bbdwr                                     Cruel Summer   \n",
       "3  2OzhQlSqBEmt7hmkYxfT6m                    Fortnight (feat. Post Malone)   \n",
       "4  1dGr1c8CrMLDpV6mPbImSI                                            Lover   \n",
       "\n",
       "   duration_ms                                               href  popularity  \\\n",
       "0       216979  https://api.spotify.com/v1/tracks/1gejz5ROvJBU...          65   \n",
       "1       228965  https://api.spotify.com/v1/tracks/20nACtTlLpHq...          59   \n",
       "2       178426  https://api.spotify.com/v1/tracks/1BxfuPKGuaTg...          94   \n",
       "3       228965  https://api.spotify.com/v1/tracks/2OzhQlSqBEmt...          95   \n",
       "4       221306  https://api.spotify.com/v1/tracks/1dGr1c8CrMLD...          87   \n",
       "\n",
       "                                    uri                album_id  \n",
       "0  spotify:track:1gejz5ROvJBUb6WJzkMAcc  1agEHpWnELaZHWzcbGDCpu  \n",
       "1  spotify:track:20nACtTlLpHqevuIVVD166  1agEHpWnELaZHWzcbGDCpu  \n",
       "2  spotify:track:1BxfuPKGuaTgP7aM0Bbdwr  1NAmidJlEaVgA3MpcPFYGq  \n",
       "3  spotify:track:2OzhQlSqBEmt7hmkYxfT6m  1Mo4aZ8pdj6L1jx8zSwJnt  \n",
       "4  spotify:track:1dGr1c8CrMLDpV6mPbImSI  1NAmidJlEaVgA3MpcPFYGq  "
      ]
     },
     "execution_count": 8,
     "metadata": {},
     "output_type": "execute_result"
    }
   ],
   "source": [
    "new_df.head()"
   ]
  },
  {
   "cell_type": "code",
   "execution_count": null,
   "metadata": {},
   "outputs": [],
   "source": [
    "new_df.to_csv(\"cleaned_song_data.csv\")"
   ]
  }
 ],
 "metadata": {
  "kernelspec": {
   "display_name": "env",
   "language": "python",
   "name": "python3"
  },
  "language_info": {
   "codemirror_mode": {
    "name": "ipython",
    "version": 3
   },
   "file_extension": ".py",
   "mimetype": "text/x-python",
   "name": "python",
   "nbconvert_exporter": "python",
   "pygments_lexer": "ipython3",
   "version": "3.9.12"
  }
 },
 "nbformat": 4,
 "nbformat_minor": 2
}
