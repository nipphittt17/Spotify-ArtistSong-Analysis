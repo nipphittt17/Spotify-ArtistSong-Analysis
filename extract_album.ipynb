{
 "cells": [
  {
   "cell_type": "code",
   "execution_count": 1,
   "metadata": {},
   "outputs": [],
   "source": [
    "import pandas as pd"
   ]
  },
  {
   "cell_type": "code",
   "execution_count": 2,
   "metadata": {},
   "outputs": [],
   "source": [
    "%run myFunctions.py\n",
    "token = get_token()\n",
    "new_data = pd.read_csv(\"cleaned_tracks_data.csv\")\n",
    "albums = []\n",
    "for album_id in new_data[\"album_id\"]:\n",
    "    album = get_album(token, album_id)\n",
    "    albums.append(album)\n",
    "\n",
    "columns = list(albums[0].keys())\n",
    "rows = []\n",
    "for row in albums:\n",
    "    rows.append(list(row.values()))\n",
    "\n",
    "df = pd.DataFrame(data=rows, columns=columns)\n",
    "df.to_csv(f'albums_data.csv')"
   ]
  },
  {
   "cell_type": "code",
   "execution_count": 38,
   "metadata": {},
   "outputs": [
    {
     "name": "stdout",
     "output_type": "stream",
     "text": [
      "Index(['album_type', 'artists', 'available_markets', 'copyrights',\n",
      "       'external_ids', 'external_urls', 'genres', 'href', 'id', 'images',\n",
      "       'label', 'name', 'popularity', 'release_date', 'release_date_precision',\n",
      "       'total_tracks', 'tracks', 'type', 'uri'],\n",
      "      dtype='object')\n"
     ]
    }
   ],
   "source": [
    "df.columns"
   ]
  },
  {
   "cell_type": "code",
   "execution_count": 3,
   "metadata": {},
   "outputs": [],
   "source": [
    "df = df.rename(columns={\"id\": \"album_id\", \"name\": \"album_name\"})"
   ]
  },
  {
   "cell_type": "code",
   "execution_count": 5,
   "metadata": {},
   "outputs": [],
   "source": [
    "new_df = df[[\"album_id\", \"album_name\",\"album_type\",\"total_tracks\",\"popularity\",\"href\",\"release_date\",\"uri\"]]"
   ]
  },
  {
   "cell_type": "code",
   "execution_count": 40,
   "metadata": {},
   "outputs": [
    {
     "data": {
      "text/html": [
       "<div>\n",
       "<style scoped>\n",
       "    .dataframe tbody tr th:only-of-type {\n",
       "        vertical-align: middle;\n",
       "    }\n",
       "\n",
       "    .dataframe tbody tr th {\n",
       "        vertical-align: top;\n",
       "    }\n",
       "\n",
       "    .dataframe thead th {\n",
       "        text-align: right;\n",
       "    }\n",
       "</style>\n",
       "<table border=\"1\" class=\"dataframe\">\n",
       "  <thead>\n",
       "    <tr style=\"text-align: right;\">\n",
       "      <th></th>\n",
       "      <th>id</th>\n",
       "      <th>name</th>\n",
       "      <th>album_type</th>\n",
       "      <th>total_tracks</th>\n",
       "      <th>popularity</th>\n",
       "      <th>href</th>\n",
       "      <th>release_date</th>\n",
       "      <th>uri</th>\n",
       "    </tr>\n",
       "  </thead>\n",
       "  <tbody>\n",
       "    <tr>\n",
       "      <th>0</th>\n",
       "      <td>1agEHpWnELaZHWzcbGDCpu</td>\n",
       "      <td>Fortnight (feat. Post Malone) [BLOND:ISH Remix]</td>\n",
       "      <td>single</td>\n",
       "      <td>2</td>\n",
       "      <td>55</td>\n",
       "      <td>https://api.spotify.com/v1/albums/1agEHpWnELaZ...</td>\n",
       "      <td>2024-05-22</td>\n",
       "      <td>spotify:album:1agEHpWnELaZHWzcbGDCpu</td>\n",
       "    </tr>\n",
       "    <tr>\n",
       "      <th>1</th>\n",
       "      <td>1agEHpWnELaZHWzcbGDCpu</td>\n",
       "      <td>Fortnight (feat. Post Malone) [BLOND:ISH Remix]</td>\n",
       "      <td>single</td>\n",
       "      <td>2</td>\n",
       "      <td>55</td>\n",
       "      <td>https://api.spotify.com/v1/albums/1agEHpWnELaZ...</td>\n",
       "      <td>2024-05-22</td>\n",
       "      <td>spotify:album:1agEHpWnELaZHWzcbGDCpu</td>\n",
       "    </tr>\n",
       "    <tr>\n",
       "      <th>2</th>\n",
       "      <td>1NAmidJlEaVgA3MpcPFYGq</td>\n",
       "      <td>Lover</td>\n",
       "      <td>album</td>\n",
       "      <td>18</td>\n",
       "      <td>89</td>\n",
       "      <td>https://api.spotify.com/v1/albums/1NAmidJlEaVg...</td>\n",
       "      <td>2019-08-23</td>\n",
       "      <td>spotify:album:1NAmidJlEaVgA3MpcPFYGq</td>\n",
       "    </tr>\n",
       "    <tr>\n",
       "      <th>3</th>\n",
       "      <td>1Mo4aZ8pdj6L1jx8zSwJnt</td>\n",
       "      <td>THE TORTURED POETS DEPARTMENT</td>\n",
       "      <td>album</td>\n",
       "      <td>16</td>\n",
       "      <td>92</td>\n",
       "      <td>https://api.spotify.com/v1/albums/1Mo4aZ8pdj6L...</td>\n",
       "      <td>2024-04-18</td>\n",
       "      <td>spotify:album:1Mo4aZ8pdj6L1jx8zSwJnt</td>\n",
       "    </tr>\n",
       "    <tr>\n",
       "      <th>4</th>\n",
       "      <td>1NAmidJlEaVgA3MpcPFYGq</td>\n",
       "      <td>Lover</td>\n",
       "      <td>album</td>\n",
       "      <td>18</td>\n",
       "      <td>89</td>\n",
       "      <td>https://api.spotify.com/v1/albums/1NAmidJlEaVg...</td>\n",
       "      <td>2019-08-23</td>\n",
       "      <td>spotify:album:1NAmidJlEaVgA3MpcPFYGq</td>\n",
       "    </tr>\n",
       "  </tbody>\n",
       "</table>\n",
       "</div>"
      ],
      "text/plain": [
       "                       id                                             name  \\\n",
       "0  1agEHpWnELaZHWzcbGDCpu  Fortnight (feat. Post Malone) [BLOND:ISH Remix]   \n",
       "1  1agEHpWnELaZHWzcbGDCpu  Fortnight (feat. Post Malone) [BLOND:ISH Remix]   \n",
       "2  1NAmidJlEaVgA3MpcPFYGq                                            Lover   \n",
       "3  1Mo4aZ8pdj6L1jx8zSwJnt                    THE TORTURED POETS DEPARTMENT   \n",
       "4  1NAmidJlEaVgA3MpcPFYGq                                            Lover   \n",
       "\n",
       "  album_type  total_tracks  popularity  \\\n",
       "0     single             2          55   \n",
       "1     single             2          55   \n",
       "2      album            18          89   \n",
       "3      album            16          92   \n",
       "4      album            18          89   \n",
       "\n",
       "                                                href release_date  \\\n",
       "0  https://api.spotify.com/v1/albums/1agEHpWnELaZ...   2024-05-22   \n",
       "1  https://api.spotify.com/v1/albums/1agEHpWnELaZ...   2024-05-22   \n",
       "2  https://api.spotify.com/v1/albums/1NAmidJlEaVg...   2019-08-23   \n",
       "3  https://api.spotify.com/v1/albums/1Mo4aZ8pdj6L...   2024-04-18   \n",
       "4  https://api.spotify.com/v1/albums/1NAmidJlEaVg...   2019-08-23   \n",
       "\n",
       "                                    uri  \n",
       "0  spotify:album:1agEHpWnELaZHWzcbGDCpu  \n",
       "1  spotify:album:1agEHpWnELaZHWzcbGDCpu  \n",
       "2  spotify:album:1NAmidJlEaVgA3MpcPFYGq  \n",
       "3  spotify:album:1Mo4aZ8pdj6L1jx8zSwJnt  \n",
       "4  spotify:album:1NAmidJlEaVgA3MpcPFYGq  "
      ]
     },
     "execution_count": 40,
     "metadata": {},
     "output_type": "execute_result"
    }
   ],
   "source": [
    "new_df.head()"
   ]
  },
  {
   "cell_type": "code",
   "execution_count": 6,
   "metadata": {},
   "outputs": [
    {
     "data": {
      "text/plain": [
       "album_id        0\n",
       "album_name      0\n",
       "album_type      0\n",
       "total_tracks    0\n",
       "popularity      0\n",
       "href            0\n",
       "release_date    0\n",
       "uri             0\n",
       "dtype: int64"
      ]
     },
     "execution_count": 6,
     "metadata": {},
     "output_type": "execute_result"
    }
   ],
   "source": [
    "new_df.isnull().sum()"
   ]
  },
  {
   "cell_type": "code",
   "execution_count": 7,
   "metadata": {},
   "outputs": [
    {
     "name": "stdout",
     "output_type": "stream",
     "text": [
      "35\n",
      "0\n"
     ]
    }
   ],
   "source": [
    "print(new_df.duplicated().sum())\n",
    "new_df = new_df.drop_duplicates(keep=\"first\")\n",
    "print(new_df.duplicated().sum())"
   ]
  },
  {
   "cell_type": "code",
   "execution_count": 8,
   "metadata": {},
   "outputs": [],
   "source": [
    "new_df.to_csv(\"cleaned_albums_data.csv\" , encoding='utf-8')"
   ]
  }
 ],
 "metadata": {
  "kernelspec": {
   "display_name": "env",
   "language": "python",
   "name": "python3"
  },
  "language_info": {
   "codemirror_mode": {
    "name": "ipython",
    "version": 3
   },
   "file_extension": ".py",
   "mimetype": "text/x-python",
   "name": "python",
   "nbconvert_exporter": "python",
   "pygments_lexer": "ipython3",
   "version": "3.9.12"
  }
 },
 "nbformat": 4,
 "nbformat_minor": 2
}
