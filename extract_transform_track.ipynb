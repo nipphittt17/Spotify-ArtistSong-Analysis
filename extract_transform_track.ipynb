{
 "cells": [
  {
   "cell_type": "markdown",
   "metadata": {},
   "source": [
    "# Fujii Kaze's tracks extraction and transformation"
   ]
  },
  {
   "cell_type": "markdown",
   "metadata": {},
   "source": [
    "Extract track, analysis, feature, and album dataset\n",
    "Transform and merge each dataset togeter\n",
    "Clean and transform the final dataset"
   ]
  },
  {
   "cell_type": "code",
   "execution_count": 268,
   "metadata": {},
   "outputs": [],
   "source": [
    "# import library\n",
    "import pandas as pd\n",
    "# call myFunctions.py\n",
    "%run myFunctions.py\n",
    "token = get_token()"
   ]
  },
  {
   "cell_type": "markdown",
   "metadata": {},
   "source": [
    "## Get track data"
   ]
  },
  {
   "cell_type": "markdown",
   "metadata": {},
   "source": [
    "### Extract [Spotify API]"
   ]
  },
  {
   "cell_type": "code",
   "execution_count": 2,
   "metadata": {},
   "outputs": [],
   "source": [
    "# call function get_song() to extract track data of the artist via Spotify API\n",
    "searched_name = \"Fujii kaze\"\n",
    "songs = get_song(token, searched_name)\n",
    "\n",
    "# store the retrieved data in the dataframe\n",
    "columns = list(songs[0].keys())\n",
    "rows = []\n",
    "for row in songs:\n",
    "    rows.append(list(row.values()))\n",
    "df = pd.DataFrame(data=rows, columns=columns)"
   ]
  },
  {
   "cell_type": "code",
   "execution_count": 3,
   "metadata": {},
   "outputs": [
    {
     "name": "stdout",
     "output_type": "stream",
     "text": [
      "<class 'pandas.core.frame.DataFrame'>\n",
      "RangeIndex: 50 entries, 0 to 49\n",
      "Data columns (total 17 columns):\n",
      " #   Column         Non-Null Count  Dtype \n",
      "---  ------         --------------  ----- \n",
      " 0   album          50 non-null     object\n",
      " 1   artists        50 non-null     object\n",
      " 2   disc_number    50 non-null     int64 \n",
      " 3   duration_ms    50 non-null     int64 \n",
      " 4   explicit       50 non-null     bool  \n",
      " 5   external_ids   50 non-null     object\n",
      " 6   external_urls  50 non-null     object\n",
      " 7   href           50 non-null     object\n",
      " 8   id             50 non-null     object\n",
      " 9   is_local       50 non-null     bool  \n",
      " 10  is_playable    50 non-null     bool  \n",
      " 11  name           50 non-null     object\n",
      " 12  popularity     50 non-null     int64 \n",
      " 13  preview_url    0 non-null      object\n",
      " 14  track_number   50 non-null     int64 \n",
      " 15  type           50 non-null     object\n",
      " 16  uri            50 non-null     object\n",
      "dtypes: bool(3), int64(4), object(10)\n",
      "memory usage: 5.7+ KB\n"
     ]
    }
   ],
   "source": [
    "df.info()"
   ]
  },
  {
   "cell_type": "code",
   "execution_count": 4,
   "metadata": {},
   "outputs": [
    {
     "data": {
      "text/plain": [
       "album            {'album_type': 'single', 'artists': [{'externa...\n",
       "artists          [{'external_urls': {'spotify': 'https://open.s...\n",
       "disc_number                                                      1\n",
       "duration_ms                                                 310997\n",
       "explicit                                                     False\n",
       "external_ids                              {'isrc': 'JPPO02400480'}\n",
       "external_urls    {'spotify': 'https://open.spotify.com/track/4h...\n",
       "href             https://api.spotify.com/v1/tracks/4hsEFcCA7AL5...\n",
       "id                                          4hsEFcCA7AL5hlKG4PRp2Z\n",
       "is_local                                                     False\n",
       "is_playable                                                   True\n",
       "name                                   Michi Teyu Ku (Overflowing)\n",
       "popularity                                                      69\n",
       "preview_url                                                   None\n",
       "track_number                                                     1\n",
       "type                                                         track\n",
       "uri                           spotify:track:4hsEFcCA7AL5hlKG4PRp2Z\n",
       "Name: 0, dtype: object"
      ]
     },
     "execution_count": 4,
     "metadata": {},
     "output_type": "execute_result"
    }
   ],
   "source": [
    "# explore each column's values\n",
    "df.iloc[0]"
   ]
  },
  {
   "cell_type": "code",
   "execution_count": 5,
   "metadata": {},
   "outputs": [
    {
     "data": {
      "text/plain": [
       "{'album_type': 'single',\n",
       " 'artists': [{'external_urls': {'spotify': 'https://open.spotify.com/artist/6bDWAcdtVR3WHz2xtiIPUi'},\n",
       "   'href': 'https://api.spotify.com/v1/artists/6bDWAcdtVR3WHz2xtiIPUi',\n",
       "   'id': '6bDWAcdtVR3WHz2xtiIPUi',\n",
       "   'name': 'Fujii Kaze',\n",
       "   'type': 'artist',\n",
       "   'uri': 'spotify:artist:6bDWAcdtVR3WHz2xtiIPUi'}],\n",
       " 'external_urls': {'spotify': 'https://open.spotify.com/album/06qRSgIo9l4Gf7ACV6JZQq'},\n",
       " 'href': 'https://api.spotify.com/v1/albums/06qRSgIo9l4Gf7ACV6JZQq',\n",
       " 'id': '06qRSgIo9l4Gf7ACV6JZQq',\n",
       " 'images': [{'height': 640,\n",
       "   'url': 'https://i.scdn.co/image/ab67616d0000b27336f72e16774f67f6a4df173d',\n",
       "   'width': 640},\n",
       "  {'height': 300,\n",
       "   'url': 'https://i.scdn.co/image/ab67616d00001e0236f72e16774f67f6a4df173d',\n",
       "   'width': 300},\n",
       "  {'height': 64,\n",
       "   'url': 'https://i.scdn.co/image/ab67616d0000485136f72e16774f67f6a4df173d',\n",
       "   'width': 64}],\n",
       " 'is_playable': True,\n",
       " 'name': 'Michi Teyu Ku (Overflowing)',\n",
       " 'release_date': '2024-03-14',\n",
       " 'release_date_precision': 'day',\n",
       " 'total_tracks': 1,\n",
       " 'type': 'album',\n",
       " 'uri': 'spotify:album:06qRSgIo9l4Gf7ACV6JZQq'}"
      ]
     },
     "execution_count": 5,
     "metadata": {},
     "output_type": "execute_result"
    }
   ],
   "source": [
    "# explore the album object which is another entity\n",
    "df[\"album\"][0]"
   ]
  },
  {
   "cell_type": "code",
   "execution_count": 6,
   "metadata": {},
   "outputs": [
    {
     "data": {
      "text/plain": [
       "[{'external_urls': {'spotify': 'https://open.spotify.com/artist/6bDWAcdtVR3WHz2xtiIPUi'},\n",
       "  'href': 'https://api.spotify.com/v1/artists/6bDWAcdtVR3WHz2xtiIPUi',\n",
       "  'id': '6bDWAcdtVR3WHz2xtiIPUi',\n",
       "  'name': 'Fujii Kaze',\n",
       "  'type': 'artist',\n",
       "  'uri': 'spotify:artist:6bDWAcdtVR3WHz2xtiIPUi'}]"
      ]
     },
     "execution_count": 6,
     "metadata": {},
     "output_type": "execute_result"
    }
   ],
   "source": [
    "# explore the artist object which is another entity\n",
    "df[\"artists\"][0]"
   ]
  },
  {
   "cell_type": "markdown",
   "metadata": {},
   "source": [
    "### Transform"
   ]
  },
  {
   "cell_type": "code",
   "execution_count": 7,
   "metadata": {},
   "outputs": [],
   "source": [
    "# copy data from df to track_data, so we don't have to recall API\n",
    "track_data = df.copy()"
   ]
  },
  {
   "cell_type": "code",
   "execution_count": 8,
   "metadata": {},
   "outputs": [],
   "source": [
    "# extract only the album_id of each track from the album object\n",
    "# this album_id will be used to retrieve album data from Spotify API\n",
    "# we don't used all attributes from album object here since it doesn't contain all attributes we want\n",
    "albums_id = []\n",
    "for i in range(len(track_data)):\n",
    "    albums_id.append(track_data.iloc[i][\"album\"][\"id\"])\n",
    "album_id_series = pd.Series(albums_id , name=\"album_id\")\n",
    "track_data[\"album_id\"] = album_id_series\n"
   ]
  },
  {
   "cell_type": "code",
   "execution_count": 9,
   "metadata": {},
   "outputs": [
    {
     "data": {
      "text/plain": [
       "'6bDWAcdtVR3WHz2xtiIPUi'"
      ]
     },
     "execution_count": 9,
     "metadata": {},
     "output_type": "execute_result"
    }
   ],
   "source": [
    "# this artist_id will be used to retrieve some data of the artist\n",
    "artist_id = track_data.iloc[0][\"artists\"][0][\"id\"]\n",
    "artist_id "
   ]
  },
  {
   "cell_type": "code",
   "execution_count": 10,
   "metadata": {},
   "outputs": [],
   "source": [
    "# rename the id and name to track_id and track_name\n",
    "track_data = track_data.rename(columns={\"id\": \"track_id\", \"name\": \"track_name\"})"
   ]
  },
  {
   "cell_type": "markdown",
   "metadata": {},
   "source": [
    "**Selected columns [details of each are available in README.md file]**\n",
    "- track_id\t\n",
    "- track_name\n",
    "- href\n",
    "- popularity\t\n",
    "- uri\t\n",
    "- album_id"
   ]
  },
  {
   "cell_type": "code",
   "execution_count": 11,
   "metadata": {},
   "outputs": [],
   "source": [
    "# selected columns\n",
    "track_data = track_data[[\"track_id\", \"track_name\",\"href\",\"popularity\",\"uri\", \"album_id\"]]"
   ]
  },
  {
   "cell_type": "code",
   "execution_count": 12,
   "metadata": {},
   "outputs": [
    {
     "data": {
      "text/html": [
       "<div>\n",
       "<style scoped>\n",
       "    .dataframe tbody tr th:only-of-type {\n",
       "        vertical-align: middle;\n",
       "    }\n",
       "\n",
       "    .dataframe tbody tr th {\n",
       "        vertical-align: top;\n",
       "    }\n",
       "\n",
       "    .dataframe thead th {\n",
       "        text-align: right;\n",
       "    }\n",
       "</style>\n",
       "<table border=\"1\" class=\"dataframe\">\n",
       "  <thead>\n",
       "    <tr style=\"text-align: right;\">\n",
       "      <th></th>\n",
       "      <th>track_id</th>\n",
       "      <th>track_name</th>\n",
       "      <th>href</th>\n",
       "      <th>popularity</th>\n",
       "      <th>uri</th>\n",
       "      <th>album_id</th>\n",
       "    </tr>\n",
       "  </thead>\n",
       "  <tbody>\n",
       "    <tr>\n",
       "      <th>0</th>\n",
       "      <td>4hsEFcCA7AL5hlKG4PRp2Z</td>\n",
       "      <td>Michi Teyu Ku (Overflowing)</td>\n",
       "      <td>https://api.spotify.com/v1/tracks/4hsEFcCA7AL5...</td>\n",
       "      <td>69</td>\n",
       "      <td>spotify:track:4hsEFcCA7AL5hlKG4PRp2Z</td>\n",
       "      <td>06qRSgIo9l4Gf7ACV6JZQq</td>\n",
       "    </tr>\n",
       "    <tr>\n",
       "      <th>1</th>\n",
       "      <td>0o9zmvc5f3EFApU52PPIyW</td>\n",
       "      <td>Shinunoga E-Wa</td>\n",
       "      <td>https://api.spotify.com/v1/tracks/0o9zmvc5f3EF...</td>\n",
       "      <td>78</td>\n",
       "      <td>spotify:track:0o9zmvc5f3EFApU52PPIyW</td>\n",
       "      <td>1OojCidx0eoPKch2M0Kz31</td>\n",
       "    </tr>\n",
       "    <tr>\n",
       "      <th>2</th>\n",
       "      <td>6HehZX0GOVt48CK3UEUoTg</td>\n",
       "      <td>まつり</td>\n",
       "      <td>https://api.spotify.com/v1/tracks/6HehZX0GOVt4...</td>\n",
       "      <td>46</td>\n",
       "      <td>spotify:track:6HehZX0GOVt48CK3UEUoTg</td>\n",
       "      <td>1DeciVpwShHj82dFZJiO0N</td>\n",
       "    </tr>\n",
       "    <tr>\n",
       "      <th>3</th>\n",
       "      <td>53GYyXuqqC1ZBLBvgXA1QW</td>\n",
       "      <td>Workin' Hard</td>\n",
       "      <td>https://api.spotify.com/v1/tracks/53GYyXuqqC1Z...</td>\n",
       "      <td>45</td>\n",
       "      <td>spotify:track:53GYyXuqqC1ZBLBvgXA1QW</td>\n",
       "      <td>1DeciVpwShHj82dFZJiO0N</td>\n",
       "    </tr>\n",
       "    <tr>\n",
       "      <th>4</th>\n",
       "      <td>3ShRJ5ZRMAqHPumvt9m7Cj</td>\n",
       "      <td>何なんw</td>\n",
       "      <td>https://api.spotify.com/v1/tracks/3ShRJ5ZRMAqH...</td>\n",
       "      <td>45</td>\n",
       "      <td>spotify:track:3ShRJ5ZRMAqHPumvt9m7Cj</td>\n",
       "      <td>1DeciVpwShHj82dFZJiO0N</td>\n",
       "    </tr>\n",
       "  </tbody>\n",
       "</table>\n",
       "</div>"
      ],
      "text/plain": [
       "                 track_id                   track_name  \\\n",
       "0  4hsEFcCA7AL5hlKG4PRp2Z  Michi Teyu Ku (Overflowing)   \n",
       "1  0o9zmvc5f3EFApU52PPIyW               Shinunoga E-Wa   \n",
       "2  6HehZX0GOVt48CK3UEUoTg                          まつり   \n",
       "3  53GYyXuqqC1ZBLBvgXA1QW                 Workin' Hard   \n",
       "4  3ShRJ5ZRMAqHPumvt9m7Cj                         何なんw   \n",
       "\n",
       "                                                href  popularity  \\\n",
       "0  https://api.spotify.com/v1/tracks/4hsEFcCA7AL5...          69   \n",
       "1  https://api.spotify.com/v1/tracks/0o9zmvc5f3EF...          78   \n",
       "2  https://api.spotify.com/v1/tracks/6HehZX0GOVt4...          46   \n",
       "3  https://api.spotify.com/v1/tracks/53GYyXuqqC1Z...          45   \n",
       "4  https://api.spotify.com/v1/tracks/3ShRJ5ZRMAqH...          45   \n",
       "\n",
       "                                    uri                album_id  \n",
       "0  spotify:track:4hsEFcCA7AL5hlKG4PRp2Z  06qRSgIo9l4Gf7ACV6JZQq  \n",
       "1  spotify:track:0o9zmvc5f3EFApU52PPIyW  1OojCidx0eoPKch2M0Kz31  \n",
       "2  spotify:track:6HehZX0GOVt48CK3UEUoTg  1DeciVpwShHj82dFZJiO0N  \n",
       "3  spotify:track:53GYyXuqqC1ZBLBvgXA1QW  1DeciVpwShHj82dFZJiO0N  \n",
       "4  spotify:track:3ShRJ5ZRMAqHPumvt9m7Cj  1DeciVpwShHj82dFZJiO0N  "
      ]
     },
     "execution_count": 12,
     "metadata": {},
     "output_type": "execute_result"
    }
   ],
   "source": [
    "track_data.head()"
   ]
  },
  {
   "cell_type": "code",
   "execution_count": 13,
   "metadata": {},
   "outputs": [
    {
     "data": {
      "text/plain": [
       "0"
      ]
     },
     "execution_count": 13,
     "metadata": {},
     "output_type": "execute_result"
    }
   ],
   "source": [
    "# check duplications\n",
    "track_data.duplicated().sum()"
   ]
  },
  {
   "cell_type": "code",
   "execution_count": 14,
   "metadata": {},
   "outputs": [
    {
     "data": {
      "text/plain": [
       "4"
      ]
     },
     "execution_count": 14,
     "metadata": {},
     "output_type": "execute_result"
    }
   ],
   "source": [
    "# check duplications in track name\n",
    "track_data.duplicated(subset=\"track_name\").sum()"
   ]
  },
  {
   "cell_type": "markdown",
   "metadata": {},
   "source": [
    "**Note: We're aware that there are duplicated tracks (e.g. the same track from a single and an album or the same track recorded in different languages) Also, those tracks' popularity are rated independently.\n",
    "However, this issue will be addressed later after we combine all datasets.**"
   ]
  },
  {
   "cell_type": "markdown",
   "metadata": {},
   "source": [
    "## Get the track's audio analysis"
   ]
  },
  {
   "cell_type": "markdown",
   "metadata": {},
   "source": [
    "### Extract [Spotify API]"
   ]
  },
  {
   "cell_type": "code",
   "execution_count": 15,
   "metadata": {},
   "outputs": [],
   "source": [
    "# call function get_track_analysis() to extract track's audio analysis data\n",
    "track_analysis = []\n",
    "for track_id in track_data[\"track_id\"]:\n",
    "    ta = get_track_analysis(token, track_id)\n",
    "    track_analysis.append(ta)\n",
    "\n",
    "columns = list(track_analysis[0].keys())\n",
    "rows = []\n",
    "for row in track_analysis:\n",
    "    rows.append(list(row.values()))\n",
    "\n",
    "track_analysis_data = pd.DataFrame(data=rows, columns=columns)"
   ]
  },
  {
   "cell_type": "code",
   "execution_count": 16,
   "metadata": {},
   "outputs": [
    {
     "name": "stdout",
     "output_type": "stream",
     "text": [
      "<class 'pandas.core.frame.DataFrame'>\n",
      "RangeIndex: 50 entries, 0 to 49\n",
      "Data columns (total 26 columns):\n",
      " #   Column                     Non-Null Count  Dtype  \n",
      "---  ------                     --------------  -----  \n",
      " 0   num_samples                50 non-null     int64  \n",
      " 1   duration                   50 non-null     float64\n",
      " 2   sample_md5                 50 non-null     object \n",
      " 3   offset_seconds             50 non-null     int64  \n",
      " 4   window_seconds             50 non-null     int64  \n",
      " 5   analysis_sample_rate       50 non-null     int64  \n",
      " 6   analysis_channels          50 non-null     int64  \n",
      " 7   end_of_fade_in             50 non-null     float64\n",
      " 8   start_of_fade_out          50 non-null     float64\n",
      " 9   loudness                   50 non-null     float64\n",
      " 10  tempo                      50 non-null     float64\n",
      " 11  tempo_confidence           50 non-null     float64\n",
      " 12  time_signature             50 non-null     int64  \n",
      " 13  time_signature_confidence  50 non-null     float64\n",
      " 14  key                        50 non-null     int64  \n",
      " 15  key_confidence             50 non-null     float64\n",
      " 16  mode                       50 non-null     int64  \n",
      " 17  mode_confidence            50 non-null     float64\n",
      " 18  codestring                 50 non-null     object \n",
      " 19  code_version               50 non-null     float64\n",
      " 20  echoprintstring            50 non-null     object \n",
      " 21  echoprint_version          50 non-null     float64\n",
      " 22  synchstring                50 non-null     object \n",
      " 23  synch_version              50 non-null     float64\n",
      " 24  rhythmstring               50 non-null     object \n",
      " 25  rhythm_version             50 non-null     float64\n",
      "dtypes: float64(13), int64(8), object(5)\n",
      "memory usage: 10.3+ KB\n"
     ]
    }
   ],
   "source": [
    "track_analysis_data.info()"
   ]
  },
  {
   "cell_type": "code",
   "execution_count": 17,
   "metadata": {},
   "outputs": [
    {
     "data": {
      "text/plain": [
       "num_samples                                                            6857486\n",
       "duration                                                              310.9971\n",
       "sample_md5                                                                    \n",
       "offset_seconds                                                               0\n",
       "window_seconds                                                               0\n",
       "analysis_sample_rate                                                     22050\n",
       "analysis_channels                                                            1\n",
       "end_of_fade_in                                                         0.45306\n",
       "start_of_fade_out                                                    306.22476\n",
       "loudness                                                                 -7.91\n",
       "tempo                                                                   143.99\n",
       "tempo_confidence                                                         0.319\n",
       "time_signature                                                               4\n",
       "time_signature_confidence                                                  1.0\n",
       "key                                                                          9\n",
       "key_confidence                                                           0.634\n",
       "mode                                                                         1\n",
       "mode_confidence                                                          0.487\n",
       "codestring                   eJw9mwu23LgOA7fSS7D-0v43NlXgzbx3konVbluiSBCE2O...\n",
       "code_version                                                              3.15\n",
       "echoprintstring              eJzlnQmaLTdupbcUnMnlcNz_Evo_uLJSJVcwW856Vtnu_g...\n",
       "echoprint_version                                                         4.12\n",
       "synchstring                  eJxNWId1ZCEMbIUSAInUf2M3QX99z2vvD6A4GgnP2Vdv0e...\n",
       "synch_version                                                              1.0\n",
       "rhythmstring                 eJx9XAmyHCuMvEofAQQIuP_FhlxUz38mYiLssN_r6ioWLa...\n",
       "rhythm_version                                                             1.0\n",
       "Name: 0, dtype: object"
      ]
     },
     "execution_count": 17,
     "metadata": {},
     "output_type": "execute_result"
    }
   ],
   "source": [
    "# explore each column's value\n",
    "track_analysis_data.iloc[0]"
   ]
  },
  {
   "cell_type": "markdown",
   "metadata": {},
   "source": [
    "### Transform"
   ]
  },
  {
   "cell_type": "markdown",
   "metadata": {},
   "source": [
    "**Selected columns [details of each are available in README.md file]**\n",
    "- duration\t\n",
    "- loudness\t\n",
    "- tempo\t\n",
    "- time_signature\t\n",
    "- key\t\n",
    "- mode"
   ]
  },
  {
   "cell_type": "code",
   "execution_count": 18,
   "metadata": {},
   "outputs": [],
   "source": [
    "# selected columns\n",
    "track_analysis_data = track_analysis_data[[\"duration\", \"loudness\", \"tempo\", \"time_signature\", \"key\", \"mode\"]]"
   ]
  },
  {
   "cell_type": "code",
   "execution_count": 19,
   "metadata": {},
   "outputs": [
    {
     "data": {
      "text/html": [
       "<div>\n",
       "<style scoped>\n",
       "    .dataframe tbody tr th:only-of-type {\n",
       "        vertical-align: middle;\n",
       "    }\n",
       "\n",
       "    .dataframe tbody tr th {\n",
       "        vertical-align: top;\n",
       "    }\n",
       "\n",
       "    .dataframe thead th {\n",
       "        text-align: right;\n",
       "    }\n",
       "</style>\n",
       "<table border=\"1\" class=\"dataframe\">\n",
       "  <thead>\n",
       "    <tr style=\"text-align: right;\">\n",
       "      <th></th>\n",
       "      <th>duration</th>\n",
       "      <th>loudness</th>\n",
       "      <th>tempo</th>\n",
       "      <th>time_signature</th>\n",
       "      <th>key</th>\n",
       "      <th>mode</th>\n",
       "    </tr>\n",
       "  </thead>\n",
       "  <tbody>\n",
       "    <tr>\n",
       "      <th>0</th>\n",
       "      <td>310.99710</td>\n",
       "      <td>-7.910</td>\n",
       "      <td>143.990</td>\n",
       "      <td>4</td>\n",
       "      <td>9</td>\n",
       "      <td>1</td>\n",
       "    </tr>\n",
       "    <tr>\n",
       "      <th>1</th>\n",
       "      <td>185.57333</td>\n",
       "      <td>-6.124</td>\n",
       "      <td>158.078</td>\n",
       "      <td>4</td>\n",
       "      <td>6</td>\n",
       "      <td>0</td>\n",
       "    </tr>\n",
       "    <tr>\n",
       "      <th>2</th>\n",
       "      <td>225.92000</td>\n",
       "      <td>-7.335</td>\n",
       "      <td>97.025</td>\n",
       "      <td>4</td>\n",
       "      <td>1</td>\n",
       "      <td>1</td>\n",
       "    </tr>\n",
       "    <tr>\n",
       "      <th>3</th>\n",
       "      <td>239.07098</td>\n",
       "      <td>-6.106</td>\n",
       "      <td>90.000</td>\n",
       "      <td>4</td>\n",
       "      <td>2</td>\n",
       "      <td>0</td>\n",
       "    </tr>\n",
       "    <tr>\n",
       "      <th>4</th>\n",
       "      <td>320.64000</td>\n",
       "      <td>-7.113</td>\n",
       "      <td>180.065</td>\n",
       "      <td>4</td>\n",
       "      <td>7</td>\n",
       "      <td>1</td>\n",
       "    </tr>\n",
       "  </tbody>\n",
       "</table>\n",
       "</div>"
      ],
      "text/plain": [
       "    duration  loudness    tempo  time_signature  key  mode\n",
       "0  310.99710    -7.910  143.990               4    9     1\n",
       "1  185.57333    -6.124  158.078               4    6     0\n",
       "2  225.92000    -7.335   97.025               4    1     1\n",
       "3  239.07098    -6.106   90.000               4    2     0\n",
       "4  320.64000    -7.113  180.065               4    7     1"
      ]
     },
     "execution_count": 19,
     "metadata": {},
     "output_type": "execute_result"
    }
   ],
   "source": [
    "track_analysis_data.head()"
   ]
  },
  {
   "cell_type": "code",
   "execution_count": 20,
   "metadata": {},
   "outputs": [
    {
     "data": {
      "text/plain": [
       "10"
      ]
     },
     "execution_count": 20,
     "metadata": {},
     "output_type": "execute_result"
    }
   ],
   "source": [
    "# check duplications \n",
    "track_analysis_data.duplicated().sum()"
   ]
  },
  {
   "cell_type": "markdown",
   "metadata": {},
   "source": [
    "**Note: Again, we're aware that there are duplicated tracks, including their audio analysis.\n",
    "However, this issue will be addressed later after we combine all datasets.**"
   ]
  },
  {
   "cell_type": "code",
   "execution_count": 21,
   "metadata": {},
   "outputs": [],
   "source": [
    "# concat analysis data to the track data\n",
    "track_data_concat = pd.concat([track_data, track_analysis_data] , axis=1)"
   ]
  },
  {
   "cell_type": "markdown",
   "metadata": {},
   "source": [
    "## Get the track's audio features"
   ]
  },
  {
   "cell_type": "markdown",
   "metadata": {},
   "source": [
    "### Extract [Spotify API]"
   ]
  },
  {
   "cell_type": "code",
   "execution_count": 22,
   "metadata": {},
   "outputs": [],
   "source": [
    "# call function get_track_feature() to extract track's feature data\n",
    "track_feature = []\n",
    "for track_id in track_data_concat[\"track_id\"]:\n",
    "    ta = get_track_feature(token, track_id)\n",
    "    track_feature.append(ta)\n",
    "\n",
    "# store the retrived data in the dataframe\n",
    "columns = list(track_feature[0].keys())\n",
    "rows = []\n",
    "for row in track_feature:\n",
    "    rows.append(list(row.values()))\n",
    "\n",
    "track_feature_data = pd.DataFrame(data=rows, columns=columns)"
   ]
  },
  {
   "cell_type": "code",
   "execution_count": 23,
   "metadata": {},
   "outputs": [
    {
     "name": "stdout",
     "output_type": "stream",
     "text": [
      "<class 'pandas.core.frame.DataFrame'>\n",
      "RangeIndex: 50 entries, 0 to 49\n",
      "Data columns (total 18 columns):\n",
      " #   Column            Non-Null Count  Dtype  \n",
      "---  ------            --------------  -----  \n",
      " 0   danceability      50 non-null     float64\n",
      " 1   energy            50 non-null     float64\n",
      " 2   key               50 non-null     int64  \n",
      " 3   loudness          50 non-null     float64\n",
      " 4   mode              50 non-null     int64  \n",
      " 5   speechiness       50 non-null     float64\n",
      " 6   acousticness      50 non-null     float64\n",
      " 7   instrumentalness  50 non-null     float64\n",
      " 8   liveness          50 non-null     float64\n",
      " 9   valence           50 non-null     float64\n",
      " 10  tempo             50 non-null     float64\n",
      " 11  type              50 non-null     object \n",
      " 12  id                50 non-null     object \n",
      " 13  uri               50 non-null     object \n",
      " 14  track_href        50 non-null     object \n",
      " 15  analysis_url      50 non-null     object \n",
      " 16  duration_ms       50 non-null     int64  \n",
      " 17  time_signature    50 non-null     int64  \n",
      "dtypes: float64(9), int64(4), object(5)\n",
      "memory usage: 7.2+ KB\n"
     ]
    }
   ],
   "source": [
    "track_feature_data.info()"
   ]
  },
  {
   "cell_type": "code",
   "execution_count": 24,
   "metadata": {},
   "outputs": [
    {
     "data": {
      "text/plain": [
       "danceability                                                    0.565\n",
       "energy                                                          0.591\n",
       "key                                                                 9\n",
       "loudness                                                        -7.91\n",
       "mode                                                                1\n",
       "speechiness                                                    0.0336\n",
       "acousticness                                                    0.473\n",
       "instrumentalness                                               0.0523\n",
       "liveness                                                        0.107\n",
       "valence                                                         0.429\n",
       "tempo                                                          143.99\n",
       "type                                                   audio_features\n",
       "id                                             4hsEFcCA7AL5hlKG4PRp2Z\n",
       "uri                              spotify:track:4hsEFcCA7AL5hlKG4PRp2Z\n",
       "track_href          https://api.spotify.com/v1/tracks/4hsEFcCA7AL5...\n",
       "analysis_url        https://api.spotify.com/v1/audio-analysis/4hsE...\n",
       "duration_ms                                                    310997\n",
       "time_signature                                                      4\n",
       "Name: 0, dtype: object"
      ]
     },
     "execution_count": 24,
     "metadata": {},
     "output_type": "execute_result"
    }
   ],
   "source": [
    "# explore each column's value\n",
    "track_feature_data.iloc[0]"
   ]
  },
  {
   "cell_type": "markdown",
   "metadata": {},
   "source": [
    "### Transform"
   ]
  },
  {
   "cell_type": "code",
   "execution_count": 25,
   "metadata": {},
   "outputs": [],
   "source": [
    "# rename the id to track_id\n",
    "track_feature_data = track_feature_data.rename(columns={\"id\": \"track_id\"})"
   ]
  },
  {
   "cell_type": "markdown",
   "metadata": {},
   "source": [
    "**Selected columns [details of each are available in README.md file]** \n",
    "- track_id\n",
    "- acousticness\t\n",
    "- energy\t\n",
    "- danceability\t"
   ]
  },
  {
   "cell_type": "code",
   "execution_count": 26,
   "metadata": {},
   "outputs": [],
   "source": [
    "# selected columns\n",
    "track_feature_data = track_feature_data[[\"track_id\", \"acousticness\", \"energy\", \"danceability\"]]"
   ]
  },
  {
   "cell_type": "code",
   "execution_count": 27,
   "metadata": {},
   "outputs": [
    {
     "data": {
      "text/html": [
       "<div>\n",
       "<style scoped>\n",
       "    .dataframe tbody tr th:only-of-type {\n",
       "        vertical-align: middle;\n",
       "    }\n",
       "\n",
       "    .dataframe tbody tr th {\n",
       "        vertical-align: top;\n",
       "    }\n",
       "\n",
       "    .dataframe thead th {\n",
       "        text-align: right;\n",
       "    }\n",
       "</style>\n",
       "<table border=\"1\" class=\"dataframe\">\n",
       "  <thead>\n",
       "    <tr style=\"text-align: right;\">\n",
       "      <th></th>\n",
       "      <th>track_id</th>\n",
       "      <th>acousticness</th>\n",
       "      <th>energy</th>\n",
       "      <th>danceability</th>\n",
       "    </tr>\n",
       "  </thead>\n",
       "  <tbody>\n",
       "    <tr>\n",
       "      <th>0</th>\n",
       "      <td>4hsEFcCA7AL5hlKG4PRp2Z</td>\n",
       "      <td>0.47300</td>\n",
       "      <td>0.591</td>\n",
       "      <td>0.565</td>\n",
       "    </tr>\n",
       "    <tr>\n",
       "      <th>1</th>\n",
       "      <td>0o9zmvc5f3EFApU52PPIyW</td>\n",
       "      <td>0.16600</td>\n",
       "      <td>0.760</td>\n",
       "      <td>0.600</td>\n",
       "    </tr>\n",
       "    <tr>\n",
       "      <th>2</th>\n",
       "      <td>6HehZX0GOVt48CK3UEUoTg</td>\n",
       "      <td>0.00892</td>\n",
       "      <td>0.731</td>\n",
       "      <td>0.663</td>\n",
       "    </tr>\n",
       "    <tr>\n",
       "      <th>3</th>\n",
       "      <td>53GYyXuqqC1ZBLBvgXA1QW</td>\n",
       "      <td>0.03360</td>\n",
       "      <td>0.664</td>\n",
       "      <td>0.740</td>\n",
       "    </tr>\n",
       "    <tr>\n",
       "      <th>4</th>\n",
       "      <td>3ShRJ5ZRMAqHPumvt9m7Cj</td>\n",
       "      <td>0.39400</td>\n",
       "      <td>0.729</td>\n",
       "      <td>0.577</td>\n",
       "    </tr>\n",
       "  </tbody>\n",
       "</table>\n",
       "</div>"
      ],
      "text/plain": [
       "                 track_id  acousticness  energy  danceability\n",
       "0  4hsEFcCA7AL5hlKG4PRp2Z       0.47300   0.591         0.565\n",
       "1  0o9zmvc5f3EFApU52PPIyW       0.16600   0.760         0.600\n",
       "2  6HehZX0GOVt48CK3UEUoTg       0.00892   0.731         0.663\n",
       "3  53GYyXuqqC1ZBLBvgXA1QW       0.03360   0.664         0.740\n",
       "4  3ShRJ5ZRMAqHPumvt9m7Cj       0.39400   0.729         0.577"
      ]
     },
     "execution_count": 27,
     "metadata": {},
     "output_type": "execute_result"
    }
   ],
   "source": [
    "track_feature_data.head()"
   ]
  },
  {
   "cell_type": "code",
   "execution_count": 28,
   "metadata": {},
   "outputs": [
    {
     "data": {
      "text/plain": [
       "0"
      ]
     },
     "execution_count": 28,
     "metadata": {},
     "output_type": "execute_result"
    }
   ],
   "source": [
    "# check duplications\n",
    "track_feature_data.duplicated().sum()"
   ]
  },
  {
   "cell_type": "code",
   "execution_count": 284,
   "metadata": {},
   "outputs": [],
   "source": [
    "# merge track feature data with track and analysis data by track_id\n",
    "track_data_merge = pd.merge(track_data_concat, track_feature_data, on=\"track_id\")"
   ]
  },
  {
   "cell_type": "markdown",
   "metadata": {},
   "source": [
    "## Get the track's album"
   ]
  },
  {
   "cell_type": "markdown",
   "metadata": {},
   "source": [
    "### Extract [Spotify API]"
   ]
  },
  {
   "cell_type": "code",
   "execution_count": 285,
   "metadata": {},
   "outputs": [],
   "source": [
    "# call function get_track_analysis() to extract track' album data using album_id\n",
    "albums = []\n",
    "for track_id in track_data_merge [\"album_id\"]:\n",
    "    a = get_album(token, track_id)\n",
    "    albums.append(a)\n",
    "\n",
    "columns = list(albums[0].keys())\n",
    "rows = []\n",
    "for row in albums:\n",
    "    rows.append(list(row.values()))\n",
    "\n",
    "album_data = pd.DataFrame(data=rows, columns=columns)"
   ]
  },
  {
   "cell_type": "code",
   "execution_count": 286,
   "metadata": {},
   "outputs": [
    {
     "name": "stdout",
     "output_type": "stream",
     "text": [
      "<class 'pandas.core.frame.DataFrame'>\n",
      "RangeIndex: 50 entries, 0 to 49\n",
      "Data columns (total 19 columns):\n",
      " #   Column                  Non-Null Count  Dtype \n",
      "---  ------                  --------------  ----- \n",
      " 0   album_type              50 non-null     object\n",
      " 1   artists                 50 non-null     object\n",
      " 2   available_markets       50 non-null     object\n",
      " 3   copyrights              50 non-null     object\n",
      " 4   external_ids            50 non-null     object\n",
      " 5   external_urls           50 non-null     object\n",
      " 6   genres                  50 non-null     object\n",
      " 7   href                    50 non-null     object\n",
      " 8   id                      50 non-null     object\n",
      " 9   images                  50 non-null     object\n",
      " 10  label                   50 non-null     object\n",
      " 11  name                    50 non-null     object\n",
      " 12  popularity              50 non-null     int64 \n",
      " 13  release_date            50 non-null     object\n",
      " 14  release_date_precision  50 non-null     object\n",
      " 15  total_tracks            50 non-null     int64 \n",
      " 16  tracks                  50 non-null     object\n",
      " 17  type                    50 non-null     object\n",
      " 18  uri                     50 non-null     object\n",
      "dtypes: int64(2), object(17)\n",
      "memory usage: 7.5+ KB\n"
     ]
    }
   ],
   "source": [
    "album_data.info()"
   ]
  },
  {
   "cell_type": "code",
   "execution_count": 287,
   "metadata": {},
   "outputs": [
    {
     "data": {
      "text/plain": [
       "album_type                                                           single\n",
       "artists                   [{'external_urls': {'spotify': 'https://open.s...\n",
       "available_markets         [AR, AU, AT, BE, BO, BR, BG, CA, CL, CO, CR, C...\n",
       "copyrights                [{'text': '© 2024 UNIVERSAL MUSIC LLC', 'type'...\n",
       "external_ids                                      {'upc': '00602465244298'}\n",
       "external_urls             {'spotify': 'https://open.spotify.com/album/06...\n",
       "genres                                                                   []\n",
       "href                      https://api.spotify.com/v1/albums/06qRSgIo9l4G...\n",
       "id                                                   06qRSgIo9l4Gf7ACV6JZQq\n",
       "images                    [{'height': 640, 'url': 'https://i.scdn.co/ima...\n",
       "label                                                   Universal Music LLC\n",
       "name                                            Michi Teyu Ku (Overflowing)\n",
       "popularity                                                               57\n",
       "release_date                                                     2024-03-14\n",
       "release_date_precision                                                  day\n",
       "total_tracks                                                              1\n",
       "tracks                    {'href': 'https://api.spotify.com/v1/albums/06...\n",
       "type                                                                  album\n",
       "uri                                    spotify:album:06qRSgIo9l4Gf7ACV6JZQq\n",
       "Name: 0, dtype: object"
      ]
     },
     "execution_count": 287,
     "metadata": {},
     "output_type": "execute_result"
    }
   ],
   "source": [
    "# explore each column's value\n",
    "album_data.iloc[0]"
   ]
  },
  {
   "cell_type": "markdown",
   "metadata": {},
   "source": [
    "### Transform"
   ]
  },
  {
   "cell_type": "code",
   "execution_count": 288,
   "metadata": {},
   "outputs": [],
   "source": [
    "# rename the id, name, popularity, uri, and href to album_id, alum_name, album_popularity, album_uri, and albun_href\n",
    "# prevent the ambiguity between track and album attributes\n",
    "album_data = album_data.rename(columns={\"id\": \"album_id\", \"name\": \"album_name\", \"popularity\": \"album_popularity\", \"uri\": \"album_uri\", \"href\": \"album_href\"})"
   ]
  },
  {
   "cell_type": "markdown",
   "metadata": {},
   "source": [
    "**Selected columns [details of each are available in README.md file]**\n",
    "- album_id\t\n",
    "- album_name\n",
    "- album_type\n",
    "- album_popularity\n",
    "- release_date\t\n",
    "- total_tracks\t\n",
    "- album_uri\n",
    "- album_href"
   ]
  },
  {
   "cell_type": "code",
   "execution_count": 289,
   "metadata": {},
   "outputs": [],
   "source": [
    "album_data = album_data[[\"album_id\", \"album_name\", \"album_type\", \"album_popularity\", \"release_date\", \"total_tracks\", \"album_uri\", \"album_href\"]]"
   ]
  },
  {
   "cell_type": "code",
   "execution_count": 290,
   "metadata": {},
   "outputs": [
    {
     "data": {
      "text/html": [
       "<div>\n",
       "<style scoped>\n",
       "    .dataframe tbody tr th:only-of-type {\n",
       "        vertical-align: middle;\n",
       "    }\n",
       "\n",
       "    .dataframe tbody tr th {\n",
       "        vertical-align: top;\n",
       "    }\n",
       "\n",
       "    .dataframe thead th {\n",
       "        text-align: right;\n",
       "    }\n",
       "</style>\n",
       "<table border=\"1\" class=\"dataframe\">\n",
       "  <thead>\n",
       "    <tr style=\"text-align: right;\">\n",
       "      <th></th>\n",
       "      <th>album_id</th>\n",
       "      <th>album_name</th>\n",
       "      <th>album_type</th>\n",
       "      <th>album_popularity</th>\n",
       "      <th>release_date</th>\n",
       "      <th>total_tracks</th>\n",
       "      <th>album_uri</th>\n",
       "      <th>album_href</th>\n",
       "    </tr>\n",
       "  </thead>\n",
       "  <tbody>\n",
       "    <tr>\n",
       "      <th>0</th>\n",
       "      <td>06qRSgIo9l4Gf7ACV6JZQq</td>\n",
       "      <td>Michi Teyu Ku (Overflowing)</td>\n",
       "      <td>single</td>\n",
       "      <td>57</td>\n",
       "      <td>2024-03-14</td>\n",
       "      <td>1</td>\n",
       "      <td>spotify:album:06qRSgIo9l4Gf7ACV6JZQq</td>\n",
       "      <td>https://api.spotify.com/v1/albums/06qRSgIo9l4G...</td>\n",
       "    </tr>\n",
       "    <tr>\n",
       "      <th>1</th>\n",
       "      <td>1OojCidx0eoPKch2M0Kz31</td>\n",
       "      <td>HELP EVER HURT NEVER</td>\n",
       "      <td>album</td>\n",
       "      <td>67</td>\n",
       "      <td>2020-05-20</td>\n",
       "      <td>11</td>\n",
       "      <td>spotify:album:1OojCidx0eoPKch2M0Kz31</td>\n",
       "      <td>https://api.spotify.com/v1/albums/1OojCidx0eoP...</td>\n",
       "    </tr>\n",
       "    <tr>\n",
       "      <th>2</th>\n",
       "      <td>1DeciVpwShHj82dFZJiO0N</td>\n",
       "      <td>Best of Fujii Kaze 2020-2024</td>\n",
       "      <td>compilation</td>\n",
       "      <td>49</td>\n",
       "      <td>2024-05-28</td>\n",
       "      <td>10</td>\n",
       "      <td>spotify:album:1DeciVpwShHj82dFZJiO0N</td>\n",
       "      <td>https://api.spotify.com/v1/albums/1DeciVpwShHj...</td>\n",
       "    </tr>\n",
       "    <tr>\n",
       "      <th>3</th>\n",
       "      <td>1DeciVpwShHj82dFZJiO0N</td>\n",
       "      <td>Best of Fujii Kaze 2020-2024</td>\n",
       "      <td>compilation</td>\n",
       "      <td>49</td>\n",
       "      <td>2024-05-28</td>\n",
       "      <td>10</td>\n",
       "      <td>spotify:album:1DeciVpwShHj82dFZJiO0N</td>\n",
       "      <td>https://api.spotify.com/v1/albums/1DeciVpwShHj...</td>\n",
       "    </tr>\n",
       "    <tr>\n",
       "      <th>4</th>\n",
       "      <td>1DeciVpwShHj82dFZJiO0N</td>\n",
       "      <td>Best of Fujii Kaze 2020-2024</td>\n",
       "      <td>compilation</td>\n",
       "      <td>49</td>\n",
       "      <td>2024-05-28</td>\n",
       "      <td>10</td>\n",
       "      <td>spotify:album:1DeciVpwShHj82dFZJiO0N</td>\n",
       "      <td>https://api.spotify.com/v1/albums/1DeciVpwShHj...</td>\n",
       "    </tr>\n",
       "  </tbody>\n",
       "</table>\n",
       "</div>"
      ],
      "text/plain": [
       "                 album_id                    album_name   album_type  \\\n",
       "0  06qRSgIo9l4Gf7ACV6JZQq   Michi Teyu Ku (Overflowing)       single   \n",
       "1  1OojCidx0eoPKch2M0Kz31          HELP EVER HURT NEVER        album   \n",
       "2  1DeciVpwShHj82dFZJiO0N  Best of Fujii Kaze 2020-2024  compilation   \n",
       "3  1DeciVpwShHj82dFZJiO0N  Best of Fujii Kaze 2020-2024  compilation   \n",
       "4  1DeciVpwShHj82dFZJiO0N  Best of Fujii Kaze 2020-2024  compilation   \n",
       "\n",
       "   album_popularity release_date  total_tracks  \\\n",
       "0                57   2024-03-14             1   \n",
       "1                67   2020-05-20            11   \n",
       "2                49   2024-05-28            10   \n",
       "3                49   2024-05-28            10   \n",
       "4                49   2024-05-28            10   \n",
       "\n",
       "                              album_uri  \\\n",
       "0  spotify:album:06qRSgIo9l4Gf7ACV6JZQq   \n",
       "1  spotify:album:1OojCidx0eoPKch2M0Kz31   \n",
       "2  spotify:album:1DeciVpwShHj82dFZJiO0N   \n",
       "3  spotify:album:1DeciVpwShHj82dFZJiO0N   \n",
       "4  spotify:album:1DeciVpwShHj82dFZJiO0N   \n",
       "\n",
       "                                          album_href  \n",
       "0  https://api.spotify.com/v1/albums/06qRSgIo9l4G...  \n",
       "1  https://api.spotify.com/v1/albums/1OojCidx0eoP...  \n",
       "2  https://api.spotify.com/v1/albums/1DeciVpwShHj...  \n",
       "3  https://api.spotify.com/v1/albums/1DeciVpwShHj...  \n",
       "4  https://api.spotify.com/v1/albums/1DeciVpwShHj...  "
      ]
     },
     "execution_count": 290,
     "metadata": {},
     "output_type": "execute_result"
    }
   ],
   "source": [
    "album_data.head()"
   ]
  },
  {
   "cell_type": "code",
   "execution_count": 291,
   "metadata": {},
   "outputs": [
    {
     "data": {
      "text/plain": [
       "0"
      ]
     },
     "execution_count": 291,
     "metadata": {},
     "output_type": "execute_result"
    }
   ],
   "source": [
    "# there must be the duplications in album as we retrieved the data by using track_id\n",
    "# drop the duplications and recheck\n",
    "album_data = album_data.drop_duplicates(subset=None)\n",
    "album_data.duplicated().sum()"
   ]
  },
  {
   "cell_type": "code",
   "execution_count": 292,
   "metadata": {},
   "outputs": [
    {
     "data": {
      "text/plain": [
       "1"
      ]
     },
     "execution_count": 292,
     "metadata": {},
     "output_type": "execute_result"
    }
   ],
   "source": [
    "# check duplications in album name\n",
    "album_data.duplicated(subset=\"album_name\").sum()"
   ]
  },
  {
   "cell_type": "code",
   "execution_count": 293,
   "metadata": {},
   "outputs": [
    {
     "data": {
      "text/plain": [
       "40    Hana\n",
       "Name: album_name, dtype: object"
      ]
     },
     "execution_count": 293,
     "metadata": {},
     "output_type": "execute_result"
    }
   ],
   "source": [
    "# find the album name of duplcations\n",
    "album_data[\"album_name\"][album_data.duplicated(subset=\"album_name\")]"
   ]
  },
  {
   "cell_type": "code",
   "execution_count": 294,
   "metadata": {},
   "outputs": [
    {
     "data": {
      "text/html": [
       "<div>\n",
       "<style scoped>\n",
       "    .dataframe tbody tr th:only-of-type {\n",
       "        vertical-align: middle;\n",
       "    }\n",
       "\n",
       "    .dataframe tbody tr th {\n",
       "        vertical-align: top;\n",
       "    }\n",
       "\n",
       "    .dataframe thead th {\n",
       "        text-align: right;\n",
       "    }\n",
       "</style>\n",
       "<table border=\"1\" class=\"dataframe\">\n",
       "  <thead>\n",
       "    <tr style=\"text-align: right;\">\n",
       "      <th></th>\n",
       "      <th>album_id</th>\n",
       "      <th>album_name</th>\n",
       "      <th>album_type</th>\n",
       "      <th>album_popularity</th>\n",
       "      <th>release_date</th>\n",
       "      <th>total_tracks</th>\n",
       "      <th>album_uri</th>\n",
       "      <th>album_href</th>\n",
       "    </tr>\n",
       "  </thead>\n",
       "  <tbody>\n",
       "    <tr>\n",
       "      <th>14</th>\n",
       "      <td>0v6vQ9tMopUTccn0wUvzQD</td>\n",
       "      <td>Hana</td>\n",
       "      <td>single</td>\n",
       "      <td>50</td>\n",
       "      <td>2023-10-12</td>\n",
       "      <td>1</td>\n",
       "      <td>spotify:album:0v6vQ9tMopUTccn0wUvzQD</td>\n",
       "      <td>https://api.spotify.com/v1/albums/0v6vQ9tMopUT...</td>\n",
       "    </tr>\n",
       "    <tr>\n",
       "      <th>40</th>\n",
       "      <td>3IGw7uRv2y5lTMlIe8PLeT</td>\n",
       "      <td>Hana</td>\n",
       "      <td>single</td>\n",
       "      <td>34</td>\n",
       "      <td>2023-11-02</td>\n",
       "      <td>4</td>\n",
       "      <td>spotify:album:3IGw7uRv2y5lTMlIe8PLeT</td>\n",
       "      <td>https://api.spotify.com/v1/albums/3IGw7uRv2y5l...</td>\n",
       "    </tr>\n",
       "  </tbody>\n",
       "</table>\n",
       "</div>"
      ],
      "text/plain": [
       "                  album_id album_name album_type  album_popularity  \\\n",
       "14  0v6vQ9tMopUTccn0wUvzQD       Hana     single                50   \n",
       "40  3IGw7uRv2y5lTMlIe8PLeT       Hana     single                34   \n",
       "\n",
       "   release_date  total_tracks                             album_uri  \\\n",
       "14   2023-10-12             1  spotify:album:0v6vQ9tMopUTccn0wUvzQD   \n",
       "40   2023-11-02             4  spotify:album:3IGw7uRv2y5lTMlIe8PLeT   \n",
       "\n",
       "                                           album_href  \n",
       "14  https://api.spotify.com/v1/albums/0v6vQ9tMopUT...  \n",
       "40  https://api.spotify.com/v1/albums/3IGw7uRv2y5l...  "
      ]
     },
     "execution_count": 294,
     "metadata": {},
     "output_type": "execute_result"
    }
   ],
   "source": [
    "album_data[album_data[\"album_name\"]==\"Hana\"]"
   ]
  },
  {
   "cell_type": "markdown",
   "metadata": {},
   "source": [
    "**Note: Both albums named 'Hana' have the album type 'single'. However, one contains 1 track, while the other contains 4 tracks. If we follow the album URI, the one with 4 tracks includes 'Hana', 'Hana - Instrumental', 'Hana - Ballad', and 'Hana - Demo', which are the same song in different versions.\n",
    "Notably, the album popularities are different (33 vs. 50). This might cause errors during analysis. To prevent any potential issues, we will revisit this after combining with the track data.**"
   ]
  },
  {
   "cell_type": "code",
   "execution_count": 328,
   "metadata": {},
   "outputs": [],
   "source": [
    "# merge album data with track data by album_id\n",
    "track_album_data = pd.merge(track_data_merge, album_data, on=\"album_id\")"
   ]
  },
  {
   "cell_type": "markdown",
   "metadata": {},
   "source": [
    "## Transform final dataset"
   ]
  },
  {
   "cell_type": "code",
   "execution_count": 329,
   "metadata": {},
   "outputs": [
    {
     "data": {
      "text/plain": [
       "album_name\n",
       "Best of Fujii Kaze 2020-2024     10\n",
       "HELP EVER HURT COVER              3\n",
       "HELP EVER HURT NEVER             11\n",
       "Hana                              2\n",
       "Kirari Remixes (Asia Edition)     2\n",
       "LOVE ALL COVER ALL                6\n",
       "LOVE ALL SERVE ALL               11\n",
       "Michi Teyu Ku (Overflowing)       1\n",
       "Workin' Hard                      1\n",
       "grace                             1\n",
       "へでもねーよ                            1\n",
       "まつり                               1\n",
       "Name: track_id, dtype: int64"
      ]
     },
     "execution_count": 329,
     "metadata": {},
     "output_type": "execute_result"
    }
   ],
   "source": [
    "# inspect the number of tracks retreived from each album\n",
    "track_album_data.groupby(\"album_name\")[\"track_id\"].count()"
   ]
  },
  {
   "cell_type": "markdown",
   "metadata": {},
   "source": [
    "### Explore album"
   ]
  },
  {
   "cell_type": "code",
   "execution_count": 330,
   "metadata": {},
   "outputs": [
    {
     "data": {
      "text/plain": [
       "array(['HELP EVER HURT NEVER', 'LOVE ALL SERVE ALL',\n",
       "       'Kirari Remixes (Asia Edition)', 'LOVE ALL COVER ALL',\n",
       "       'HELP EVER HURT COVER'], dtype=object)"
      ]
     },
     "execution_count": 330,
     "metadata": {},
     "output_type": "execute_result"
    }
   ],
   "source": [
    "track_album_data[\"album_name\"][track_album_data[\"album_type\"] == \"album\"].unique()"
   ]
  },
  {
   "cell_type": "code",
   "execution_count": 331,
   "metadata": {},
   "outputs": [
    {
     "data": {
      "text/html": [
       "<div>\n",
       "<style scoped>\n",
       "    .dataframe tbody tr th:only-of-type {\n",
       "        vertical-align: middle;\n",
       "    }\n",
       "\n",
       "    .dataframe tbody tr th {\n",
       "        vertical-align: top;\n",
       "    }\n",
       "\n",
       "    .dataframe thead th {\n",
       "        text-align: right;\n",
       "    }\n",
       "</style>\n",
       "<table border=\"1\" class=\"dataframe\">\n",
       "  <thead>\n",
       "    <tr style=\"text-align: right;\">\n",
       "      <th></th>\n",
       "      <th>album_name</th>\n",
       "      <th>total_tracks</th>\n",
       "    </tr>\n",
       "  </thead>\n",
       "  <tbody>\n",
       "    <tr>\n",
       "      <th>1</th>\n",
       "      <td>HELP EVER HURT NEVER</td>\n",
       "      <td>11</td>\n",
       "    </tr>\n",
       "    <tr>\n",
       "      <th>12</th>\n",
       "      <td>LOVE ALL SERVE ALL</td>\n",
       "      <td>11</td>\n",
       "    </tr>\n",
       "    <tr>\n",
       "      <th>13</th>\n",
       "      <td>Kirari Remixes (Asia Edition)</td>\n",
       "      <td>9</td>\n",
       "    </tr>\n",
       "    <tr>\n",
       "      <th>35</th>\n",
       "      <td>LOVE ALL COVER ALL</td>\n",
       "      <td>11</td>\n",
       "    </tr>\n",
       "    <tr>\n",
       "      <th>36</th>\n",
       "      <td>HELP EVER HURT COVER</td>\n",
       "      <td>10</td>\n",
       "    </tr>\n",
       "  </tbody>\n",
       "</table>\n",
       "</div>"
      ],
      "text/plain": [
       "                       album_name  total_tracks\n",
       "1            HELP EVER HURT NEVER            11\n",
       "12             LOVE ALL SERVE ALL            11\n",
       "13  Kirari Remixes (Asia Edition)             9\n",
       "35             LOVE ALL COVER ALL            11\n",
       "36           HELP EVER HURT COVER            10"
      ]
     },
     "execution_count": 331,
     "metadata": {},
     "output_type": "execute_result"
    }
   ],
   "source": [
    "# check the actual total tracks of each album\n",
    "# we can see that some album data are incomplete\n",
    "album_data[[\"album_name\",\"total_tracks\"]][album_data[\"album_type\"] == \"album\"]"
   ]
  },
  {
   "cell_type": "code",
   "execution_count": 332,
   "metadata": {},
   "outputs": [],
   "source": [
    "# drop all cover albums (the data retrieved is not complete as well)\n",
    "track_album_data = track_album_data[track_album_data[\"album_name\"]!=\"HELP EVER HURT COVER\"]\n",
    "track_album_data = track_album_data[track_album_data[\"album_name\"]!=\"LOVE ALL COVER ALL\"]"
   ]
  },
  {
   "cell_type": "code",
   "execution_count": 333,
   "metadata": {},
   "outputs": [
    {
     "data": {
      "text/html": [
       "<div>\n",
       "<style scoped>\n",
       "    .dataframe tbody tr th:only-of-type {\n",
       "        vertical-align: middle;\n",
       "    }\n",
       "\n",
       "    .dataframe tbody tr th {\n",
       "        vertical-align: top;\n",
       "    }\n",
       "\n",
       "    .dataframe thead th {\n",
       "        text-align: right;\n",
       "    }\n",
       "</style>\n",
       "<table border=\"1\" class=\"dataframe\">\n",
       "  <thead>\n",
       "    <tr style=\"text-align: right;\">\n",
       "      <th></th>\n",
       "      <th>track_id</th>\n",
       "      <th>track_name</th>\n",
       "      <th>href</th>\n",
       "      <th>popularity</th>\n",
       "      <th>uri</th>\n",
       "      <th>album_id</th>\n",
       "      <th>duration</th>\n",
       "      <th>loudness</th>\n",
       "      <th>tempo</th>\n",
       "      <th>time_signature</th>\n",
       "      <th>...</th>\n",
       "      <th>acousticness</th>\n",
       "      <th>energy</th>\n",
       "      <th>danceability</th>\n",
       "      <th>album_name</th>\n",
       "      <th>album_type</th>\n",
       "      <th>album_popularity</th>\n",
       "      <th>release_date</th>\n",
       "      <th>total_tracks</th>\n",
       "      <th>album_uri</th>\n",
       "      <th>album_href</th>\n",
       "    </tr>\n",
       "  </thead>\n",
       "  <tbody>\n",
       "    <tr>\n",
       "      <th>13</th>\n",
       "      <td>51oc6MEsXTpnPn6GOw5VuP</td>\n",
       "      <td>きらり</td>\n",
       "      <td>https://api.spotify.com/v1/tracks/51oc6MEsXTpn...</td>\n",
       "      <td>69</td>\n",
       "      <td>spotify:track:51oc6MEsXTpnPn6GOw5VuP</td>\n",
       "      <td>2OXwORzPU4tm1Skiv6l9KT</td>\n",
       "      <td>231.88295</td>\n",
       "      <td>-6.833</td>\n",
       "      <td>116.982</td>\n",
       "      <td>4</td>\n",
       "      <td>...</td>\n",
       "      <td>0.00803</td>\n",
       "      <td>0.764</td>\n",
       "      <td>0.746</td>\n",
       "      <td>Kirari Remixes (Asia Edition)</td>\n",
       "      <td>album</td>\n",
       "      <td>58</td>\n",
       "      <td>2022-01-14</td>\n",
       "      <td>9</td>\n",
       "      <td>spotify:album:2OXwORzPU4tm1Skiv6l9KT</td>\n",
       "      <td>https://api.spotify.com/v1/albums/2OXwORzPU4tm...</td>\n",
       "    </tr>\n",
       "    <tr>\n",
       "      <th>41</th>\n",
       "      <td>1zzJfOdraIBJtCAatSYzCt</td>\n",
       "      <td>Kirari - Daul Remix</td>\n",
       "      <td>https://api.spotify.com/v1/tracks/1zzJfOdraIBJ...</td>\n",
       "      <td>50</td>\n",
       "      <td>spotify:track:1zzJfOdraIBJtCAatSYzCt</td>\n",
       "      <td>2OXwORzPU4tm1Skiv6l9KT</td>\n",
       "      <td>245.33043</td>\n",
       "      <td>-6.709</td>\n",
       "      <td>114.990</td>\n",
       "      <td>4</td>\n",
       "      <td>...</td>\n",
       "      <td>0.05110</td>\n",
       "      <td>0.684</td>\n",
       "      <td>0.827</td>\n",
       "      <td>Kirari Remixes (Asia Edition)</td>\n",
       "      <td>album</td>\n",
       "      <td>58</td>\n",
       "      <td>2022-01-14</td>\n",
       "      <td>9</td>\n",
       "      <td>spotify:album:2OXwORzPU4tm1Skiv6l9KT</td>\n",
       "      <td>https://api.spotify.com/v1/albums/2OXwORzPU4tm...</td>\n",
       "    </tr>\n",
       "  </tbody>\n",
       "</table>\n",
       "<p>2 rows × 22 columns</p>\n",
       "</div>"
      ],
      "text/plain": [
       "                  track_id           track_name  \\\n",
       "13  51oc6MEsXTpnPn6GOw5VuP                  きらり   \n",
       "41  1zzJfOdraIBJtCAatSYzCt  Kirari - Daul Remix   \n",
       "\n",
       "                                                 href  popularity  \\\n",
       "13  https://api.spotify.com/v1/tracks/51oc6MEsXTpn...          69   \n",
       "41  https://api.spotify.com/v1/tracks/1zzJfOdraIBJ...          50   \n",
       "\n",
       "                                     uri                album_id   duration  \\\n",
       "13  spotify:track:51oc6MEsXTpnPn6GOw5VuP  2OXwORzPU4tm1Skiv6l9KT  231.88295   \n",
       "41  spotify:track:1zzJfOdraIBJtCAatSYzCt  2OXwORzPU4tm1Skiv6l9KT  245.33043   \n",
       "\n",
       "    loudness    tempo  time_signature  ...  acousticness  energy  \\\n",
       "13    -6.833  116.982               4  ...       0.00803   0.764   \n",
       "41    -6.709  114.990               4  ...       0.05110   0.684   \n",
       "\n",
       "    danceability                     album_name  album_type album_popularity  \\\n",
       "13         0.746  Kirari Remixes (Asia Edition)       album               58   \n",
       "41         0.827  Kirari Remixes (Asia Edition)       album               58   \n",
       "\n",
       "   release_date  total_tracks                             album_uri  \\\n",
       "13   2022-01-14             9  spotify:album:2OXwORzPU4tm1Skiv6l9KT   \n",
       "41   2022-01-14             9  spotify:album:2OXwORzPU4tm1Skiv6l9KT   \n",
       "\n",
       "                                           album_href  \n",
       "13  https://api.spotify.com/v1/albums/2OXwORzPU4tm...  \n",
       "41  https://api.spotify.com/v1/albums/2OXwORzPU4tm...  \n",
       "\n",
       "[2 rows x 22 columns]"
      ]
     },
     "execution_count": 333,
     "metadata": {},
     "output_type": "execute_result"
    }
   ],
   "source": [
    "# we are aware that the track in album Kirari Remixes (Asia Edition) is incomplete due to the limitation of retrieving data\n",
    "# however, we are going to use these 2 tracks (the original track and the most popular remix)\n",
    "track_album_data[track_album_data[\"album_name\"] == \"Kirari Remixes (Asia Edition)\"]"
   ]
  },
  {
   "cell_type": "code",
   "execution_count": 334,
   "metadata": {},
   "outputs": [
    {
     "data": {
      "text/html": [
       "<div>\n",
       "<style scoped>\n",
       "    .dataframe tbody tr th:only-of-type {\n",
       "        vertical-align: middle;\n",
       "    }\n",
       "\n",
       "    .dataframe tbody tr th {\n",
       "        vertical-align: top;\n",
       "    }\n",
       "\n",
       "    .dataframe thead th {\n",
       "        text-align: right;\n",
       "    }\n",
       "</style>\n",
       "<table border=\"1\" class=\"dataframe\">\n",
       "  <thead>\n",
       "    <tr style=\"text-align: right;\">\n",
       "      <th></th>\n",
       "      <th>track_id</th>\n",
       "      <th>track_name</th>\n",
       "      <th>href</th>\n",
       "      <th>popularity</th>\n",
       "      <th>uri</th>\n",
       "      <th>album_id</th>\n",
       "      <th>duration</th>\n",
       "      <th>loudness</th>\n",
       "      <th>tempo</th>\n",
       "      <th>time_signature</th>\n",
       "      <th>...</th>\n",
       "      <th>acousticness</th>\n",
       "      <th>energy</th>\n",
       "      <th>danceability</th>\n",
       "      <th>album_name</th>\n",
       "      <th>album_type</th>\n",
       "      <th>album_popularity</th>\n",
       "      <th>release_date</th>\n",
       "      <th>total_tracks</th>\n",
       "      <th>album_uri</th>\n",
       "      <th>album_href</th>\n",
       "    </tr>\n",
       "  </thead>\n",
       "  <tbody>\n",
       "    <tr>\n",
       "      <th>29</th>\n",
       "      <td>7nhXN2H8h3i2PaHPXb6FO3</td>\n",
       "      <td>Kirari</td>\n",
       "      <td>https://api.spotify.com/v1/tracks/7nhXN2H8h3i2...</td>\n",
       "      <td>50</td>\n",
       "      <td>spotify:track:7nhXN2H8h3i2PaHPXb6FO3</td>\n",
       "      <td>7Ip9X7pnkhJ4cwDoBnvneD</td>\n",
       "      <td>227.89333</td>\n",
       "      <td>-6.842</td>\n",
       "      <td>116.975</td>\n",
       "      <td>4</td>\n",
       "      <td>...</td>\n",
       "      <td>0.00704</td>\n",
       "      <td>0.773</td>\n",
       "      <td>0.752</td>\n",
       "      <td>LOVE ALL SERVE ALL</td>\n",
       "      <td>album</td>\n",
       "      <td>61</td>\n",
       "      <td>2022-03-23</td>\n",
       "      <td>11</td>\n",
       "      <td>spotify:album:7Ip9X7pnkhJ4cwDoBnvneD</td>\n",
       "      <td>https://api.spotify.com/v1/albums/7Ip9X7pnkhJ4...</td>\n",
       "    </tr>\n",
       "  </tbody>\n",
       "</table>\n",
       "<p>1 rows × 22 columns</p>\n",
       "</div>"
      ],
      "text/plain": [
       "                  track_id track_name  \\\n",
       "29  7nhXN2H8h3i2PaHPXb6FO3     Kirari   \n",
       "\n",
       "                                                 href  popularity  \\\n",
       "29  https://api.spotify.com/v1/tracks/7nhXN2H8h3i2...          50   \n",
       "\n",
       "                                     uri                album_id   duration  \\\n",
       "29  spotify:track:7nhXN2H8h3i2PaHPXb6FO3  7Ip9X7pnkhJ4cwDoBnvneD  227.89333   \n",
       "\n",
       "    loudness    tempo  time_signature  ...  acousticness  energy  \\\n",
       "29    -6.842  116.975               4  ...       0.00704   0.773   \n",
       "\n",
       "    danceability          album_name  album_type album_popularity  \\\n",
       "29         0.752  LOVE ALL SERVE ALL       album               61   \n",
       "\n",
       "   release_date  total_tracks                             album_uri  \\\n",
       "29   2022-03-23            11  spotify:album:7Ip9X7pnkhJ4cwDoBnvneD   \n",
       "\n",
       "                                           album_href  \n",
       "29  https://api.spotify.com/v1/albums/7Ip9X7pnkhJ4...  \n",
       "\n",
       "[1 rows x 22 columns]"
      ]
     },
     "execution_count": 334,
     "metadata": {},
     "output_type": "execute_result"
    }
   ],
   "source": [
    "# there's also the track named 'Kirari' in English from album LOVE ALL SERVE ALL\n",
    "track_album_data[track_album_data[\"track_name\"] == 'Kirari']"
   ]
  },
  {
   "cell_type": "code",
   "execution_count": 335,
   "metadata": {},
   "outputs": [],
   "source": [
    "# change the track named きらり to English and add 'Asia Edition' to avoid duplication in track name\n",
    "track_album_data.loc[track_album_data[\"track_name\"] == \"きらり\", \"track_name\"] = \"Kirari (Asia Edition)\""
   ]
  },
  {
   "cell_type": "markdown",
   "metadata": {},
   "source": [
    "### Explore compilation"
   ]
  },
  {
   "cell_type": "code",
   "execution_count": 336,
   "metadata": {},
   "outputs": [
    {
     "data": {
      "text/plain": [
       "array(['Best of Fujii Kaze 2020-2024'], dtype=object)"
      ]
     },
     "execution_count": 336,
     "metadata": {},
     "output_type": "execute_result"
    }
   ],
   "source": [
    "track_album_data[\"album_name\"][track_album_data[\"album_type\"] == \"compilation\"].unique()"
   ]
  },
  {
   "cell_type": "code",
   "execution_count": 337,
   "metadata": {},
   "outputs": [
    {
     "data": {
      "text/html": [
       "<div>\n",
       "<style scoped>\n",
       "    .dataframe tbody tr th:only-of-type {\n",
       "        vertical-align: middle;\n",
       "    }\n",
       "\n",
       "    .dataframe tbody tr th {\n",
       "        vertical-align: top;\n",
       "    }\n",
       "\n",
       "    .dataframe thead th {\n",
       "        text-align: right;\n",
       "    }\n",
       "</style>\n",
       "<table border=\"1\" class=\"dataframe\">\n",
       "  <thead>\n",
       "    <tr style=\"text-align: right;\">\n",
       "      <th></th>\n",
       "      <th>track_id</th>\n",
       "      <th>track_name</th>\n",
       "      <th>href</th>\n",
       "      <th>popularity</th>\n",
       "      <th>uri</th>\n",
       "      <th>album_id</th>\n",
       "      <th>duration</th>\n",
       "      <th>loudness</th>\n",
       "      <th>tempo</th>\n",
       "      <th>time_signature</th>\n",
       "      <th>...</th>\n",
       "      <th>acousticness</th>\n",
       "      <th>energy</th>\n",
       "      <th>danceability</th>\n",
       "      <th>album_name</th>\n",
       "      <th>album_type</th>\n",
       "      <th>album_popularity</th>\n",
       "      <th>release_date</th>\n",
       "      <th>total_tracks</th>\n",
       "      <th>album_uri</th>\n",
       "      <th>album_href</th>\n",
       "    </tr>\n",
       "  </thead>\n",
       "  <tbody>\n",
       "    <tr>\n",
       "      <th>2</th>\n",
       "      <td>6HehZX0GOVt48CK3UEUoTg</td>\n",
       "      <td>まつり</td>\n",
       "      <td>https://api.spotify.com/v1/tracks/6HehZX0GOVt4...</td>\n",
       "      <td>46</td>\n",
       "      <td>spotify:track:6HehZX0GOVt48CK3UEUoTg</td>\n",
       "      <td>1DeciVpwShHj82dFZJiO0N</td>\n",
       "      <td>225.92000</td>\n",
       "      <td>-7.335</td>\n",
       "      <td>97.025</td>\n",
       "      <td>4</td>\n",
       "      <td>...</td>\n",
       "      <td>0.00892</td>\n",
       "      <td>0.731</td>\n",
       "      <td>0.663</td>\n",
       "      <td>Best of Fujii Kaze 2020-2024</td>\n",
       "      <td>compilation</td>\n",
       "      <td>49</td>\n",
       "      <td>2024-05-28</td>\n",
       "      <td>10</td>\n",
       "      <td>spotify:album:1DeciVpwShHj82dFZJiO0N</td>\n",
       "      <td>https://api.spotify.com/v1/albums/1DeciVpwShHj...</td>\n",
       "    </tr>\n",
       "    <tr>\n",
       "      <th>3</th>\n",
       "      <td>53GYyXuqqC1ZBLBvgXA1QW</td>\n",
       "      <td>Workin' Hard</td>\n",
       "      <td>https://api.spotify.com/v1/tracks/53GYyXuqqC1Z...</td>\n",
       "      <td>45</td>\n",
       "      <td>spotify:track:53GYyXuqqC1ZBLBvgXA1QW</td>\n",
       "      <td>1DeciVpwShHj82dFZJiO0N</td>\n",
       "      <td>239.07098</td>\n",
       "      <td>-6.106</td>\n",
       "      <td>90.000</td>\n",
       "      <td>4</td>\n",
       "      <td>...</td>\n",
       "      <td>0.03360</td>\n",
       "      <td>0.664</td>\n",
       "      <td>0.740</td>\n",
       "      <td>Best of Fujii Kaze 2020-2024</td>\n",
       "      <td>compilation</td>\n",
       "      <td>49</td>\n",
       "      <td>2024-05-28</td>\n",
       "      <td>10</td>\n",
       "      <td>spotify:album:1DeciVpwShHj82dFZJiO0N</td>\n",
       "      <td>https://api.spotify.com/v1/albums/1DeciVpwShHj...</td>\n",
       "    </tr>\n",
       "    <tr>\n",
       "      <th>4</th>\n",
       "      <td>3ShRJ5ZRMAqHPumvt9m7Cj</td>\n",
       "      <td>何なんw</td>\n",
       "      <td>https://api.spotify.com/v1/tracks/3ShRJ5ZRMAqH...</td>\n",
       "      <td>45</td>\n",
       "      <td>spotify:track:3ShRJ5ZRMAqHPumvt9m7Cj</td>\n",
       "      <td>1DeciVpwShHj82dFZJiO0N</td>\n",
       "      <td>320.64000</td>\n",
       "      <td>-7.113</td>\n",
       "      <td>180.065</td>\n",
       "      <td>4</td>\n",
       "      <td>...</td>\n",
       "      <td>0.39400</td>\n",
       "      <td>0.729</td>\n",
       "      <td>0.577</td>\n",
       "      <td>Best of Fujii Kaze 2020-2024</td>\n",
       "      <td>compilation</td>\n",
       "      <td>49</td>\n",
       "      <td>2024-05-28</td>\n",
       "      <td>10</td>\n",
       "      <td>spotify:album:1DeciVpwShHj82dFZJiO0N</td>\n",
       "      <td>https://api.spotify.com/v1/albums/1DeciVpwShHj...</td>\n",
       "    </tr>\n",
       "    <tr>\n",
       "      <th>5</th>\n",
       "      <td>0oz4Oh0zx4XRZnS6Z1rr0M</td>\n",
       "      <td>Kirari (Asia Edition)</td>\n",
       "      <td>https://api.spotify.com/v1/tracks/0oz4Oh0zx4XR...</td>\n",
       "      <td>44</td>\n",
       "      <td>spotify:track:0oz4Oh0zx4XRZnS6Z1rr0M</td>\n",
       "      <td>1DeciVpwShHj82dFZJiO0N</td>\n",
       "      <td>231.88295</td>\n",
       "      <td>-6.833</td>\n",
       "      <td>116.982</td>\n",
       "      <td>4</td>\n",
       "      <td>...</td>\n",
       "      <td>0.00803</td>\n",
       "      <td>0.764</td>\n",
       "      <td>0.746</td>\n",
       "      <td>Best of Fujii Kaze 2020-2024</td>\n",
       "      <td>compilation</td>\n",
       "      <td>49</td>\n",
       "      <td>2024-05-28</td>\n",
       "      <td>10</td>\n",
       "      <td>spotify:album:1DeciVpwShHj82dFZJiO0N</td>\n",
       "      <td>https://api.spotify.com/v1/albums/1DeciVpwShHj...</td>\n",
       "    </tr>\n",
       "    <tr>\n",
       "      <th>6</th>\n",
       "      <td>150mkwkCKc2GVDJ3UcIm0S</td>\n",
       "      <td>満ちてゆく</td>\n",
       "      <td>https://api.spotify.com/v1/tracks/150mkwkCKc2G...</td>\n",
       "      <td>43</td>\n",
       "      <td>spotify:track:150mkwkCKc2GVDJ3UcIm0S</td>\n",
       "      <td>1DeciVpwShHj82dFZJiO0N</td>\n",
       "      <td>310.99710</td>\n",
       "      <td>-7.910</td>\n",
       "      <td>143.990</td>\n",
       "      <td>4</td>\n",
       "      <td>...</td>\n",
       "      <td>0.47300</td>\n",
       "      <td>0.591</td>\n",
       "      <td>0.565</td>\n",
       "      <td>Best of Fujii Kaze 2020-2024</td>\n",
       "      <td>compilation</td>\n",
       "      <td>49</td>\n",
       "      <td>2024-05-28</td>\n",
       "      <td>10</td>\n",
       "      <td>spotify:album:1DeciVpwShHj82dFZJiO0N</td>\n",
       "      <td>https://api.spotify.com/v1/albums/1DeciVpwShHj...</td>\n",
       "    </tr>\n",
       "  </tbody>\n",
       "</table>\n",
       "<p>5 rows × 22 columns</p>\n",
       "</div>"
      ],
      "text/plain": [
       "                 track_id             track_name  \\\n",
       "2  6HehZX0GOVt48CK3UEUoTg                    まつり   \n",
       "3  53GYyXuqqC1ZBLBvgXA1QW           Workin' Hard   \n",
       "4  3ShRJ5ZRMAqHPumvt9m7Cj                   何なんw   \n",
       "5  0oz4Oh0zx4XRZnS6Z1rr0M  Kirari (Asia Edition)   \n",
       "6  150mkwkCKc2GVDJ3UcIm0S                  満ちてゆく   \n",
       "\n",
       "                                                href  popularity  \\\n",
       "2  https://api.spotify.com/v1/tracks/6HehZX0GOVt4...          46   \n",
       "3  https://api.spotify.com/v1/tracks/53GYyXuqqC1Z...          45   \n",
       "4  https://api.spotify.com/v1/tracks/3ShRJ5ZRMAqH...          45   \n",
       "5  https://api.spotify.com/v1/tracks/0oz4Oh0zx4XR...          44   \n",
       "6  https://api.spotify.com/v1/tracks/150mkwkCKc2G...          43   \n",
       "\n",
       "                                    uri                album_id   duration  \\\n",
       "2  spotify:track:6HehZX0GOVt48CK3UEUoTg  1DeciVpwShHj82dFZJiO0N  225.92000   \n",
       "3  spotify:track:53GYyXuqqC1ZBLBvgXA1QW  1DeciVpwShHj82dFZJiO0N  239.07098   \n",
       "4  spotify:track:3ShRJ5ZRMAqHPumvt9m7Cj  1DeciVpwShHj82dFZJiO0N  320.64000   \n",
       "5  spotify:track:0oz4Oh0zx4XRZnS6Z1rr0M  1DeciVpwShHj82dFZJiO0N  231.88295   \n",
       "6  spotify:track:150mkwkCKc2GVDJ3UcIm0S  1DeciVpwShHj82dFZJiO0N  310.99710   \n",
       "\n",
       "   loudness    tempo  time_signature  ...  acousticness  energy  danceability  \\\n",
       "2    -7.335   97.025               4  ...       0.00892   0.731         0.663   \n",
       "3    -6.106   90.000               4  ...       0.03360   0.664         0.740   \n",
       "4    -7.113  180.065               4  ...       0.39400   0.729         0.577   \n",
       "5    -6.833  116.982               4  ...       0.00803   0.764         0.746   \n",
       "6    -7.910  143.990               4  ...       0.47300   0.591         0.565   \n",
       "\n",
       "                     album_name   album_type album_popularity release_date  \\\n",
       "2  Best of Fujii Kaze 2020-2024  compilation               49   2024-05-28   \n",
       "3  Best of Fujii Kaze 2020-2024  compilation               49   2024-05-28   \n",
       "4  Best of Fujii Kaze 2020-2024  compilation               49   2024-05-28   \n",
       "5  Best of Fujii Kaze 2020-2024  compilation               49   2024-05-28   \n",
       "6  Best of Fujii Kaze 2020-2024  compilation               49   2024-05-28   \n",
       "\n",
       "   total_tracks                             album_uri  \\\n",
       "2            10  spotify:album:1DeciVpwShHj82dFZJiO0N   \n",
       "3            10  spotify:album:1DeciVpwShHj82dFZJiO0N   \n",
       "4            10  spotify:album:1DeciVpwShHj82dFZJiO0N   \n",
       "5            10  spotify:album:1DeciVpwShHj82dFZJiO0N   \n",
       "6            10  spotify:album:1DeciVpwShHj82dFZJiO0N   \n",
       "\n",
       "                                          album_href  \n",
       "2  https://api.spotify.com/v1/albums/1DeciVpwShHj...  \n",
       "3  https://api.spotify.com/v1/albums/1DeciVpwShHj...  \n",
       "4  https://api.spotify.com/v1/albums/1DeciVpwShHj...  \n",
       "5  https://api.spotify.com/v1/albums/1DeciVpwShHj...  \n",
       "6  https://api.spotify.com/v1/albums/1DeciVpwShHj...  \n",
       "\n",
       "[5 rows x 22 columns]"
      ]
     },
     "execution_count": 337,
     "metadata": {},
     "output_type": "execute_result"
    }
   ],
   "source": [
    "# explore tracks in 'Best of Fujii Kaze 2020-2024' album\n",
    "track_album_data[track_album_data[\"album_name\"] == \"Best of Fujii Kaze 2020-2024\"].head()"
   ]
  },
  {
   "cell_type": "code",
   "execution_count": 338,
   "metadata": {},
   "outputs": [],
   "source": [
    "# the album \"Best of Fujii Kaze 2020-2024\" is a compilation that contains top tracks overtime. \n",
    "# they are the duplicated version of popular songs\n",
    "# this would significantly affect the overall analysis, so we have decided to drop this album\n",
    "track_album_data = track_album_data[track_album_data[\"album_name\"] != \"Best of Fujii Kaze 2020-2024\"]"
   ]
  },
  {
   "cell_type": "markdown",
   "metadata": {},
   "source": [
    "### Explore single"
   ]
  },
  {
   "cell_type": "code",
   "execution_count": 339,
   "metadata": {},
   "outputs": [
    {
     "data": {
      "text/plain": [
       "0     Michi Teyu Ku (Overflowing)\n",
       "14                           Hana\n",
       "18                   Workin' Hard\n",
       "21                          grace\n",
       "28                         へでもねーよ\n",
       "40                           Hana\n",
       "42                            まつり\n",
       "Name: album_name, dtype: object"
      ]
     },
     "execution_count": 339,
     "metadata": {},
     "output_type": "execute_result"
    }
   ],
   "source": [
    "track_album_data[\"album_name\"][track_album_data[\"album_type\"] == \"single\"]"
   ]
  },
  {
   "cell_type": "code",
   "execution_count": 340,
   "metadata": {},
   "outputs": [
    {
     "data": {
      "text/html": [
       "<div>\n",
       "<style scoped>\n",
       "    .dataframe tbody tr th:only-of-type {\n",
       "        vertical-align: middle;\n",
       "    }\n",
       "\n",
       "    .dataframe tbody tr th {\n",
       "        vertical-align: top;\n",
       "    }\n",
       "\n",
       "    .dataframe thead th {\n",
       "        text-align: right;\n",
       "    }\n",
       "</style>\n",
       "<table border=\"1\" class=\"dataframe\">\n",
       "  <thead>\n",
       "    <tr style=\"text-align: right;\">\n",
       "      <th></th>\n",
       "      <th>track_id</th>\n",
       "      <th>track_name</th>\n",
       "      <th>href</th>\n",
       "      <th>popularity</th>\n",
       "      <th>uri</th>\n",
       "      <th>album_id</th>\n",
       "      <th>duration</th>\n",
       "      <th>loudness</th>\n",
       "      <th>tempo</th>\n",
       "      <th>time_signature</th>\n",
       "      <th>...</th>\n",
       "      <th>acousticness</th>\n",
       "      <th>energy</th>\n",
       "      <th>danceability</th>\n",
       "      <th>album_name</th>\n",
       "      <th>album_type</th>\n",
       "      <th>album_popularity</th>\n",
       "      <th>release_date</th>\n",
       "      <th>total_tracks</th>\n",
       "      <th>album_uri</th>\n",
       "      <th>album_href</th>\n",
       "    </tr>\n",
       "  </thead>\n",
       "  <tbody>\n",
       "    <tr>\n",
       "      <th>14</th>\n",
       "      <td>02tNuntKQsoou5T4O8meyh</td>\n",
       "      <td>Hana</td>\n",
       "      <td>https://api.spotify.com/v1/tracks/02tNuntKQsoo...</td>\n",
       "      <td>62</td>\n",
       "      <td>spotify:track:02tNuntKQsoou5T4O8meyh</td>\n",
       "      <td>0v6vQ9tMopUTccn0wUvzQD</td>\n",
       "      <td>246.69986</td>\n",
       "      <td>-8.203</td>\n",
       "      <td>123.031</td>\n",
       "      <td>4</td>\n",
       "      <td>...</td>\n",
       "      <td>0.118</td>\n",
       "      <td>0.716</td>\n",
       "      <td>0.769</td>\n",
       "      <td>Hana</td>\n",
       "      <td>single</td>\n",
       "      <td>50</td>\n",
       "      <td>2023-10-12</td>\n",
       "      <td>1</td>\n",
       "      <td>spotify:album:0v6vQ9tMopUTccn0wUvzQD</td>\n",
       "      <td>https://api.spotify.com/v1/albums/0v6vQ9tMopUT...</td>\n",
       "    </tr>\n",
       "    <tr>\n",
       "      <th>40</th>\n",
       "      <td>08ldhcNuoqot1mavblvKfc</td>\n",
       "      <td>Hana - Ballad</td>\n",
       "      <td>https://api.spotify.com/v1/tracks/08ldhcNuoqot...</td>\n",
       "      <td>41</td>\n",
       "      <td>spotify:track:08ldhcNuoqot1mavblvKfc</td>\n",
       "      <td>3IGw7uRv2y5lTMlIe8PLeT</td>\n",
       "      <td>247.55457</td>\n",
       "      <td>-10.588</td>\n",
       "      <td>122.993</td>\n",
       "      <td>4</td>\n",
       "      <td>...</td>\n",
       "      <td>0.887</td>\n",
       "      <td>0.324</td>\n",
       "      <td>0.684</td>\n",
       "      <td>Hana</td>\n",
       "      <td>single</td>\n",
       "      <td>34</td>\n",
       "      <td>2023-11-02</td>\n",
       "      <td>4</td>\n",
       "      <td>spotify:album:3IGw7uRv2y5lTMlIe8PLeT</td>\n",
       "      <td>https://api.spotify.com/v1/albums/3IGw7uRv2y5l...</td>\n",
       "    </tr>\n",
       "  </tbody>\n",
       "</table>\n",
       "<p>2 rows × 22 columns</p>\n",
       "</div>"
      ],
      "text/plain": [
       "                  track_id     track_name  \\\n",
       "14  02tNuntKQsoou5T4O8meyh           Hana   \n",
       "40  08ldhcNuoqot1mavblvKfc  Hana - Ballad   \n",
       "\n",
       "                                                 href  popularity  \\\n",
       "14  https://api.spotify.com/v1/tracks/02tNuntKQsoo...          62   \n",
       "40  https://api.spotify.com/v1/tracks/08ldhcNuoqot...          41   \n",
       "\n",
       "                                     uri                album_id   duration  \\\n",
       "14  spotify:track:02tNuntKQsoou5T4O8meyh  0v6vQ9tMopUTccn0wUvzQD  246.69986   \n",
       "40  spotify:track:08ldhcNuoqot1mavblvKfc  3IGw7uRv2y5lTMlIe8PLeT  247.55457   \n",
       "\n",
       "    loudness    tempo  time_signature  ...  acousticness  energy  \\\n",
       "14    -8.203  123.031               4  ...         0.118   0.716   \n",
       "40   -10.588  122.993               4  ...         0.887   0.324   \n",
       "\n",
       "    danceability  album_name  album_type album_popularity release_date  \\\n",
       "14         0.769        Hana      single               50   2023-10-12   \n",
       "40         0.684        Hana      single               34   2023-11-02   \n",
       "\n",
       "    total_tracks                             album_uri  \\\n",
       "14             1  spotify:album:0v6vQ9tMopUTccn0wUvzQD   \n",
       "40             4  spotify:album:3IGw7uRv2y5lTMlIe8PLeT   \n",
       "\n",
       "                                           album_href  \n",
       "14  https://api.spotify.com/v1/albums/0v6vQ9tMopUT...  \n",
       "40  https://api.spotify.com/v1/albums/3IGw7uRv2y5l...  \n",
       "\n",
       "[2 rows x 22 columns]"
      ]
     },
     "execution_count": 340,
     "metadata": {},
     "output_type": "execute_result"
    }
   ],
   "source": [
    "# revisit issue with Hana album\n",
    "track_album_data[track_album_data[\"track_name\"].str.contains(\"Hana\")]"
   ]
  },
  {
   "cell_type": "code",
   "execution_count": 309,
   "metadata": {},
   "outputs": [],
   "source": [
    "# the Hana album should contain 4 tracks. However, only 1 track was retrieved, indicating that the data is incomplete. \n",
    "# for now, we will keep only the one with single total track for simplicity\n",
    "track_album_data = track_album_data[track_album_data[\"track_name\"]!=\"Hana - Ballad\"]"
   ]
  },
  {
   "cell_type": "code",
   "execution_count": 310,
   "metadata": {},
   "outputs": [
    {
     "data": {
      "text/html": [
       "<div>\n",
       "<style scoped>\n",
       "    .dataframe tbody tr th:only-of-type {\n",
       "        vertical-align: middle;\n",
       "    }\n",
       "\n",
       "    .dataframe tbody tr th {\n",
       "        vertical-align: top;\n",
       "    }\n",
       "\n",
       "    .dataframe thead th {\n",
       "        text-align: right;\n",
       "    }\n",
       "</style>\n",
       "<table border=\"1\" class=\"dataframe\">\n",
       "  <thead>\n",
       "    <tr style=\"text-align: right;\">\n",
       "      <th></th>\n",
       "      <th>track_id</th>\n",
       "      <th>track_name</th>\n",
       "      <th>href</th>\n",
       "      <th>popularity</th>\n",
       "      <th>uri</th>\n",
       "      <th>album_id</th>\n",
       "      <th>duration</th>\n",
       "      <th>loudness</th>\n",
       "      <th>tempo</th>\n",
       "      <th>time_signature</th>\n",
       "      <th>...</th>\n",
       "      <th>acousticness</th>\n",
       "      <th>energy</th>\n",
       "      <th>danceability</th>\n",
       "      <th>album_name</th>\n",
       "      <th>album_type</th>\n",
       "      <th>album_popularity</th>\n",
       "      <th>release_date</th>\n",
       "      <th>total_tracks</th>\n",
       "      <th>album_uri</th>\n",
       "      <th>album_href</th>\n",
       "    </tr>\n",
       "  </thead>\n",
       "  <tbody>\n",
       "    <tr>\n",
       "      <th>12</th>\n",
       "      <td>7AMGgAPFczs3wJgMqu6Eqi</td>\n",
       "      <td>Matsuri</td>\n",
       "      <td>https://api.spotify.com/v1/tracks/7AMGgAPFczs3...</td>\n",
       "      <td>68</td>\n",
       "      <td>spotify:track:7AMGgAPFczs3wJgMqu6Eqi</td>\n",
       "      <td>7Ip9X7pnkhJ4cwDoBnvneD</td>\n",
       "      <td>225.92000</td>\n",
       "      <td>-7.335</td>\n",
       "      <td>97.025</td>\n",
       "      <td>4</td>\n",
       "      <td>...</td>\n",
       "      <td>0.00892</td>\n",
       "      <td>0.731</td>\n",
       "      <td>0.663</td>\n",
       "      <td>LOVE ALL SERVE ALL</td>\n",
       "      <td>album</td>\n",
       "      <td>61</td>\n",
       "      <td>2022-03-23</td>\n",
       "      <td>11</td>\n",
       "      <td>spotify:album:7Ip9X7pnkhJ4cwDoBnvneD</td>\n",
       "      <td>https://api.spotify.com/v1/albums/7Ip9X7pnkhJ4...</td>\n",
       "    </tr>\n",
       "    <tr>\n",
       "      <th>42</th>\n",
       "      <td>14QNjDBXGCwEzJZUKkiTem</td>\n",
       "      <td>まつり</td>\n",
       "      <td>https://api.spotify.com/v1/tracks/14QNjDBXGCwE...</td>\n",
       "      <td>51</td>\n",
       "      <td>spotify:track:14QNjDBXGCwEzJZUKkiTem</td>\n",
       "      <td>3Pwex5PyfxbrNTAwl6FGo5</td>\n",
       "      <td>225.92404</td>\n",
       "      <td>-7.307</td>\n",
       "      <td>97.021</td>\n",
       "      <td>4</td>\n",
       "      <td>...</td>\n",
       "      <td>0.00758</td>\n",
       "      <td>0.737</td>\n",
       "      <td>0.661</td>\n",
       "      <td>まつり</td>\n",
       "      <td>single</td>\n",
       "      <td>39</td>\n",
       "      <td>2022-03-20</td>\n",
       "      <td>1</td>\n",
       "      <td>spotify:album:3Pwex5PyfxbrNTAwl6FGo5</td>\n",
       "      <td>https://api.spotify.com/v1/albums/3Pwex5Pyfxbr...</td>\n",
       "    </tr>\n",
       "  </tbody>\n",
       "</table>\n",
       "<p>2 rows × 22 columns</p>\n",
       "</div>"
      ],
      "text/plain": [
       "                  track_id track_name  \\\n",
       "12  7AMGgAPFczs3wJgMqu6Eqi    Matsuri   \n",
       "42  14QNjDBXGCwEzJZUKkiTem        まつり   \n",
       "\n",
       "                                                 href  popularity  \\\n",
       "12  https://api.spotify.com/v1/tracks/7AMGgAPFczs3...          68   \n",
       "42  https://api.spotify.com/v1/tracks/14QNjDBXGCwE...          51   \n",
       "\n",
       "                                     uri                album_id   duration  \\\n",
       "12  spotify:track:7AMGgAPFczs3wJgMqu6Eqi  7Ip9X7pnkhJ4cwDoBnvneD  225.92000   \n",
       "42  spotify:track:14QNjDBXGCwEzJZUKkiTem  3Pwex5PyfxbrNTAwl6FGo5  225.92404   \n",
       "\n",
       "    loudness   tempo  time_signature  ...  acousticness  energy  danceability  \\\n",
       "12    -7.335  97.025               4  ...       0.00892   0.731         0.663   \n",
       "42    -7.307  97.021               4  ...       0.00758   0.737         0.661   \n",
       "\n",
       "            album_name  album_type album_popularity release_date  \\\n",
       "12  LOVE ALL SERVE ALL       album               61   2022-03-23   \n",
       "42                 まつり      single               39   2022-03-20   \n",
       "\n",
       "    total_tracks                             album_uri  \\\n",
       "12            11  spotify:album:7Ip9X7pnkhJ4cwDoBnvneD   \n",
       "42             1  spotify:album:3Pwex5PyfxbrNTAwl6FGo5   \n",
       "\n",
       "                                           album_href  \n",
       "12  https://api.spotify.com/v1/albums/7Ip9X7pnkhJ4...  \n",
       "42  https://api.spotify.com/v1/albums/3Pwex5Pyfxbr...  \n",
       "\n",
       "[2 rows x 22 columns]"
      ]
     },
     "execution_count": 310,
     "metadata": {},
     "output_type": "execute_result"
    }
   ],
   "source": [
    "# the track まつり is the same song as 'Matsuri' and they have similar analysis and features\n",
    "track_album_data[track_album_data[\"track_name\"].isin([\"Matsuri\", \"まつり\"])]"
   ]
  },
  {
   "cell_type": "code",
   "execution_count": 311,
   "metadata": {},
   "outputs": [],
   "source": [
    "# we drop まつり to avoid duplication and keep track named 'Matsuri' with high popularity and in the album\n",
    "track_album_data = track_album_data[track_album_data[\"track_name\"] != \"まつり\"]"
   ]
  },
  {
   "cell_type": "code",
   "execution_count": 312,
   "metadata": {},
   "outputs": [
    {
     "data": {
      "text/html": [
       "<div>\n",
       "<style scoped>\n",
       "    .dataframe tbody tr th:only-of-type {\n",
       "        vertical-align: middle;\n",
       "    }\n",
       "\n",
       "    .dataframe tbody tr th {\n",
       "        vertical-align: top;\n",
       "    }\n",
       "\n",
       "    .dataframe thead th {\n",
       "        text-align: right;\n",
       "    }\n",
       "</style>\n",
       "<table border=\"1\" class=\"dataframe\">\n",
       "  <thead>\n",
       "    <tr style=\"text-align: right;\">\n",
       "      <th></th>\n",
       "      <th>track_id</th>\n",
       "      <th>track_name</th>\n",
       "      <th>href</th>\n",
       "      <th>popularity</th>\n",
       "      <th>uri</th>\n",
       "      <th>album_id</th>\n",
       "      <th>duration</th>\n",
       "      <th>loudness</th>\n",
       "      <th>tempo</th>\n",
       "      <th>time_signature</th>\n",
       "      <th>...</th>\n",
       "      <th>acousticness</th>\n",
       "      <th>energy</th>\n",
       "      <th>danceability</th>\n",
       "      <th>album_name</th>\n",
       "      <th>album_type</th>\n",
       "      <th>album_popularity</th>\n",
       "      <th>release_date</th>\n",
       "      <th>total_tracks</th>\n",
       "      <th>album_uri</th>\n",
       "      <th>album_href</th>\n",
       "    </tr>\n",
       "  </thead>\n",
       "  <tbody>\n",
       "    <tr>\n",
       "      <th>19</th>\n",
       "      <td>4Lrz9Fg8L1yncuCjjKjD4D</td>\n",
       "      <td>Hedemo Ne-Yo - LASA edit</td>\n",
       "      <td>https://api.spotify.com/v1/tracks/4Lrz9Fg8L1yn...</td>\n",
       "      <td>53</td>\n",
       "      <td>spotify:track:4Lrz9Fg8L1yncuCjjKjD4D</td>\n",
       "      <td>7Ip9X7pnkhJ4cwDoBnvneD</td>\n",
       "      <td>188.94667</td>\n",
       "      <td>-5.899</td>\n",
       "      <td>175.966</td>\n",
       "      <td>4</td>\n",
       "      <td>...</td>\n",
       "      <td>0.0615</td>\n",
       "      <td>0.861</td>\n",
       "      <td>0.506</td>\n",
       "      <td>LOVE ALL SERVE ALL</td>\n",
       "      <td>album</td>\n",
       "      <td>61</td>\n",
       "      <td>2022-03-23</td>\n",
       "      <td>11</td>\n",
       "      <td>spotify:album:7Ip9X7pnkhJ4cwDoBnvneD</td>\n",
       "      <td>https://api.spotify.com/v1/albums/7Ip9X7pnkhJ4...</td>\n",
       "    </tr>\n",
       "    <tr>\n",
       "      <th>28</th>\n",
       "      <td>1LjZnfncDtrn5YtbU4lQMf</td>\n",
       "      <td>へでもねーよ</td>\n",
       "      <td>https://api.spotify.com/v1/tracks/1LjZnfncDtrn...</td>\n",
       "      <td>50</td>\n",
       "      <td>spotify:track:1LjZnfncDtrn5YtbU4lQMf</td>\n",
       "      <td>7grlPzIHgZINOD2GhYBROR</td>\n",
       "      <td>190.75452</td>\n",
       "      <td>-6.206</td>\n",
       "      <td>175.978</td>\n",
       "      <td>4</td>\n",
       "      <td>...</td>\n",
       "      <td>0.0124</td>\n",
       "      <td>0.818</td>\n",
       "      <td>0.468</td>\n",
       "      <td>へでもねーよ</td>\n",
       "      <td>single</td>\n",
       "      <td>38</td>\n",
       "      <td>2020-10-30</td>\n",
       "      <td>1</td>\n",
       "      <td>spotify:album:7grlPzIHgZINOD2GhYBROR</td>\n",
       "      <td>https://api.spotify.com/v1/albums/7grlPzIHgZIN...</td>\n",
       "    </tr>\n",
       "  </tbody>\n",
       "</table>\n",
       "<p>2 rows × 22 columns</p>\n",
       "</div>"
      ],
      "text/plain": [
       "                  track_id                track_name  \\\n",
       "19  4Lrz9Fg8L1yncuCjjKjD4D  Hedemo Ne-Yo - LASA edit   \n",
       "28  1LjZnfncDtrn5YtbU4lQMf                    へでもねーよ   \n",
       "\n",
       "                                                 href  popularity  \\\n",
       "19  https://api.spotify.com/v1/tracks/4Lrz9Fg8L1yn...          53   \n",
       "28  https://api.spotify.com/v1/tracks/1LjZnfncDtrn...          50   \n",
       "\n",
       "                                     uri                album_id   duration  \\\n",
       "19  spotify:track:4Lrz9Fg8L1yncuCjjKjD4D  7Ip9X7pnkhJ4cwDoBnvneD  188.94667   \n",
       "28  spotify:track:1LjZnfncDtrn5YtbU4lQMf  7grlPzIHgZINOD2GhYBROR  190.75452   \n",
       "\n",
       "    loudness    tempo  time_signature  ...  acousticness  energy  \\\n",
       "19    -5.899  175.966               4  ...        0.0615   0.861   \n",
       "28    -6.206  175.978               4  ...        0.0124   0.818   \n",
       "\n",
       "    danceability          album_name  album_type album_popularity  \\\n",
       "19         0.506  LOVE ALL SERVE ALL       album               61   \n",
       "28         0.468              へでもねーよ      single               38   \n",
       "\n",
       "   release_date  total_tracks                             album_uri  \\\n",
       "19   2022-03-23            11  spotify:album:7Ip9X7pnkhJ4cwDoBnvneD   \n",
       "28   2020-10-30             1  spotify:album:7grlPzIHgZINOD2GhYBROR   \n",
       "\n",
       "                                           album_href  \n",
       "19  https://api.spotify.com/v1/albums/7Ip9X7pnkhJ4...  \n",
       "28  https://api.spotify.com/v1/albums/7grlPzIHgZIN...  \n",
       "\n",
       "[2 rows x 22 columns]"
      ]
     },
     "execution_count": 312,
     "metadata": {},
     "output_type": "execute_result"
    }
   ],
   "source": [
    "# the track へでもねーよ is the same song as 'Hedemo Ne-Yo - LASA edit' but different version\n",
    "# we keep both as their analysis and features are different\n",
    "track_album_data[track_album_data[\"track_name\"].isin([\"Hedemo Ne-Yo - LASA edit\", \"へでもねーよ\"])]"
   ]
  },
  {
   "cell_type": "code",
   "execution_count": 313,
   "metadata": {},
   "outputs": [],
   "source": [
    "# change track name and album name to English\n",
    "track_album_data.loc[track_album_data[\"track_name\"] == \"へでもねーよ\", \"track_name\"] = \"Hedemo Ne-Yo\"\n",
    "track_album_data.loc[track_album_data[\"album_name\"] == \"へでもねーよ\", \"album_name\"] = \"Hedemo Ne-Yo\""
   ]
  },
  {
   "cell_type": "code",
   "execution_count": 314,
   "metadata": {},
   "outputs": [
    {
     "data": {
      "text/plain": [
       "0"
      ]
     },
     "execution_count": 314,
     "metadata": {},
     "output_type": "execute_result"
    }
   ],
   "source": [
    "# there's no duplcation in track name anymore\n",
    "track_album_data.duplicated(subset=\"track_name\").sum()"
   ]
  },
  {
   "cell_type": "code",
   "execution_count": 319,
   "metadata": {},
   "outputs": [
    {
     "data": {
      "text/html": [
       "<div>\n",
       "<style scoped>\n",
       "    .dataframe tbody tr th:only-of-type {\n",
       "        vertical-align: middle;\n",
       "    }\n",
       "\n",
       "    .dataframe tbody tr th {\n",
       "        vertical-align: top;\n",
       "    }\n",
       "\n",
       "    .dataframe thead th {\n",
       "        text-align: right;\n",
       "    }\n",
       "</style>\n",
       "<table border=\"1\" class=\"dataframe\">\n",
       "  <thead>\n",
       "    <tr style=\"text-align: right;\">\n",
       "      <th></th>\n",
       "      <th>track_id</th>\n",
       "      <th>track_name</th>\n",
       "      <th>href</th>\n",
       "      <th>popularity</th>\n",
       "      <th>uri</th>\n",
       "      <th>album_id</th>\n",
       "      <th>duration</th>\n",
       "      <th>loudness</th>\n",
       "      <th>tempo</th>\n",
       "      <th>time_signature</th>\n",
       "      <th>...</th>\n",
       "      <th>acousticness</th>\n",
       "      <th>energy</th>\n",
       "      <th>danceability</th>\n",
       "      <th>album_name</th>\n",
       "      <th>album_type</th>\n",
       "      <th>album_popularity</th>\n",
       "      <th>release_date</th>\n",
       "      <th>total_tracks</th>\n",
       "      <th>album_uri</th>\n",
       "      <th>album_href</th>\n",
       "    </tr>\n",
       "  </thead>\n",
       "  <tbody>\n",
       "    <tr>\n",
       "      <th>0</th>\n",
       "      <td>4hsEFcCA7AL5hlKG4PRp2Z</td>\n",
       "      <td>Michi Teyu Ku (Overflowing)</td>\n",
       "      <td>https://api.spotify.com/v1/tracks/4hsEFcCA7AL5...</td>\n",
       "      <td>69</td>\n",
       "      <td>spotify:track:4hsEFcCA7AL5hlKG4PRp2Z</td>\n",
       "      <td>06qRSgIo9l4Gf7ACV6JZQq</td>\n",
       "      <td>310.99710</td>\n",
       "      <td>-7.910</td>\n",
       "      <td>143.990</td>\n",
       "      <td>4</td>\n",
       "      <td>...</td>\n",
       "      <td>0.47300</td>\n",
       "      <td>0.591</td>\n",
       "      <td>0.565</td>\n",
       "      <td>Michi Teyu Ku (Overflowing)</td>\n",
       "      <td>single</td>\n",
       "      <td>57</td>\n",
       "      <td>2024-03-14</td>\n",
       "      <td>1</td>\n",
       "      <td>spotify:album:06qRSgIo9l4Gf7ACV6JZQq</td>\n",
       "      <td>https://api.spotify.com/v1/albums/06qRSgIo9l4G...</td>\n",
       "    </tr>\n",
       "    <tr>\n",
       "      <th>1</th>\n",
       "      <td>0o9zmvc5f3EFApU52PPIyW</td>\n",
       "      <td>Shinunoga E-Wa</td>\n",
       "      <td>https://api.spotify.com/v1/tracks/0o9zmvc5f3EF...</td>\n",
       "      <td>78</td>\n",
       "      <td>spotify:track:0o9zmvc5f3EFApU52PPIyW</td>\n",
       "      <td>1OojCidx0eoPKch2M0Kz31</td>\n",
       "      <td>185.57333</td>\n",
       "      <td>-6.124</td>\n",
       "      <td>158.078</td>\n",
       "      <td>4</td>\n",
       "      <td>...</td>\n",
       "      <td>0.16600</td>\n",
       "      <td>0.760</td>\n",
       "      <td>0.600</td>\n",
       "      <td>HELP EVER HURT NEVER</td>\n",
       "      <td>album</td>\n",
       "      <td>67</td>\n",
       "      <td>2020-05-20</td>\n",
       "      <td>11</td>\n",
       "      <td>spotify:album:1OojCidx0eoPKch2M0Kz31</td>\n",
       "      <td>https://api.spotify.com/v1/albums/1OojCidx0eoP...</td>\n",
       "    </tr>\n",
       "    <tr>\n",
       "      <th>12</th>\n",
       "      <td>7AMGgAPFczs3wJgMqu6Eqi</td>\n",
       "      <td>Matsuri</td>\n",
       "      <td>https://api.spotify.com/v1/tracks/7AMGgAPFczs3...</td>\n",
       "      <td>68</td>\n",
       "      <td>spotify:track:7AMGgAPFczs3wJgMqu6Eqi</td>\n",
       "      <td>7Ip9X7pnkhJ4cwDoBnvneD</td>\n",
       "      <td>225.92000</td>\n",
       "      <td>-7.335</td>\n",
       "      <td>97.025</td>\n",
       "      <td>4</td>\n",
       "      <td>...</td>\n",
       "      <td>0.00892</td>\n",
       "      <td>0.731</td>\n",
       "      <td>0.663</td>\n",
       "      <td>LOVE ALL SERVE ALL</td>\n",
       "      <td>album</td>\n",
       "      <td>61</td>\n",
       "      <td>2022-03-23</td>\n",
       "      <td>11</td>\n",
       "      <td>spotify:album:7Ip9X7pnkhJ4cwDoBnvneD</td>\n",
       "      <td>https://api.spotify.com/v1/albums/7Ip9X7pnkhJ4...</td>\n",
       "    </tr>\n",
       "    <tr>\n",
       "      <th>13</th>\n",
       "      <td>51oc6MEsXTpnPn6GOw5VuP</td>\n",
       "      <td>Kirari (Asia Edition)</td>\n",
       "      <td>https://api.spotify.com/v1/tracks/51oc6MEsXTpn...</td>\n",
       "      <td>69</td>\n",
       "      <td>spotify:track:51oc6MEsXTpnPn6GOw5VuP</td>\n",
       "      <td>2OXwORzPU4tm1Skiv6l9KT</td>\n",
       "      <td>231.88295</td>\n",
       "      <td>-6.833</td>\n",
       "      <td>116.982</td>\n",
       "      <td>4</td>\n",
       "      <td>...</td>\n",
       "      <td>0.00803</td>\n",
       "      <td>0.764</td>\n",
       "      <td>0.746</td>\n",
       "      <td>Kirari Remixes (Asia Edition)</td>\n",
       "      <td>album</td>\n",
       "      <td>58</td>\n",
       "      <td>2022-01-14</td>\n",
       "      <td>9</td>\n",
       "      <td>spotify:album:2OXwORzPU4tm1Skiv6l9KT</td>\n",
       "      <td>https://api.spotify.com/v1/albums/2OXwORzPU4tm...</td>\n",
       "    </tr>\n",
       "    <tr>\n",
       "      <th>14</th>\n",
       "      <td>02tNuntKQsoou5T4O8meyh</td>\n",
       "      <td>Hana</td>\n",
       "      <td>https://api.spotify.com/v1/tracks/02tNuntKQsoo...</td>\n",
       "      <td>62</td>\n",
       "      <td>spotify:track:02tNuntKQsoou5T4O8meyh</td>\n",
       "      <td>0v6vQ9tMopUTccn0wUvzQD</td>\n",
       "      <td>246.69986</td>\n",
       "      <td>-8.203</td>\n",
       "      <td>123.031</td>\n",
       "      <td>4</td>\n",
       "      <td>...</td>\n",
       "      <td>0.11800</td>\n",
       "      <td>0.716</td>\n",
       "      <td>0.769</td>\n",
       "      <td>Hana</td>\n",
       "      <td>single</td>\n",
       "      <td>50</td>\n",
       "      <td>2023-10-12</td>\n",
       "      <td>1</td>\n",
       "      <td>spotify:album:0v6vQ9tMopUTccn0wUvzQD</td>\n",
       "      <td>https://api.spotify.com/v1/albums/0v6vQ9tMopUT...</td>\n",
       "    </tr>\n",
       "  </tbody>\n",
       "</table>\n",
       "<p>5 rows × 22 columns</p>\n",
       "</div>"
      ],
      "text/plain": [
       "                  track_id                   track_name  \\\n",
       "0   4hsEFcCA7AL5hlKG4PRp2Z  Michi Teyu Ku (Overflowing)   \n",
       "1   0o9zmvc5f3EFApU52PPIyW               Shinunoga E-Wa   \n",
       "12  7AMGgAPFczs3wJgMqu6Eqi                      Matsuri   \n",
       "13  51oc6MEsXTpnPn6GOw5VuP        Kirari (Asia Edition)   \n",
       "14  02tNuntKQsoou5T4O8meyh                         Hana   \n",
       "\n",
       "                                                 href  popularity  \\\n",
       "0   https://api.spotify.com/v1/tracks/4hsEFcCA7AL5...          69   \n",
       "1   https://api.spotify.com/v1/tracks/0o9zmvc5f3EF...          78   \n",
       "12  https://api.spotify.com/v1/tracks/7AMGgAPFczs3...          68   \n",
       "13  https://api.spotify.com/v1/tracks/51oc6MEsXTpn...          69   \n",
       "14  https://api.spotify.com/v1/tracks/02tNuntKQsoo...          62   \n",
       "\n",
       "                                     uri                album_id   duration  \\\n",
       "0   spotify:track:4hsEFcCA7AL5hlKG4PRp2Z  06qRSgIo9l4Gf7ACV6JZQq  310.99710   \n",
       "1   spotify:track:0o9zmvc5f3EFApU52PPIyW  1OojCidx0eoPKch2M0Kz31  185.57333   \n",
       "12  spotify:track:7AMGgAPFczs3wJgMqu6Eqi  7Ip9X7pnkhJ4cwDoBnvneD  225.92000   \n",
       "13  spotify:track:51oc6MEsXTpnPn6GOw5VuP  2OXwORzPU4tm1Skiv6l9KT  231.88295   \n",
       "14  spotify:track:02tNuntKQsoou5T4O8meyh  0v6vQ9tMopUTccn0wUvzQD  246.69986   \n",
       "\n",
       "    loudness    tempo  time_signature  ...  acousticness  energy  \\\n",
       "0     -7.910  143.990               4  ...       0.47300   0.591   \n",
       "1     -6.124  158.078               4  ...       0.16600   0.760   \n",
       "12    -7.335   97.025               4  ...       0.00892   0.731   \n",
       "13    -6.833  116.982               4  ...       0.00803   0.764   \n",
       "14    -8.203  123.031               4  ...       0.11800   0.716   \n",
       "\n",
       "    danceability                     album_name  album_type album_popularity  \\\n",
       "0          0.565    Michi Teyu Ku (Overflowing)      single               57   \n",
       "1          0.600           HELP EVER HURT NEVER       album               67   \n",
       "12         0.663             LOVE ALL SERVE ALL       album               61   \n",
       "13         0.746  Kirari Remixes (Asia Edition)       album               58   \n",
       "14         0.769                           Hana      single               50   \n",
       "\n",
       "   release_date  total_tracks                             album_uri  \\\n",
       "0    2024-03-14             1  spotify:album:06qRSgIo9l4Gf7ACV6JZQq   \n",
       "1    2020-05-20            11  spotify:album:1OojCidx0eoPKch2M0Kz31   \n",
       "12   2022-03-23            11  spotify:album:7Ip9X7pnkhJ4cwDoBnvneD   \n",
       "13   2022-01-14             9  spotify:album:2OXwORzPU4tm1Skiv6l9KT   \n",
       "14   2023-10-12             1  spotify:album:0v6vQ9tMopUTccn0wUvzQD   \n",
       "\n",
       "                                           album_href  \n",
       "0   https://api.spotify.com/v1/albums/06qRSgIo9l4G...  \n",
       "1   https://api.spotify.com/v1/albums/1OojCidx0eoP...  \n",
       "12  https://api.spotify.com/v1/albums/7Ip9X7pnkhJ4...  \n",
       "13  https://api.spotify.com/v1/albums/2OXwORzPU4tm...  \n",
       "14  https://api.spotify.com/v1/albums/0v6vQ9tMopUT...  \n",
       "\n",
       "[5 rows x 22 columns]"
      ]
     },
     "execution_count": 319,
     "metadata": {},
     "output_type": "execute_result"
    }
   ],
   "source": [
    "track_album_data.head()"
   ]
  },
  {
   "cell_type": "code",
   "execution_count": 320,
   "metadata": {},
   "outputs": [
    {
     "name": "stdout",
     "output_type": "stream",
     "text": [
      "<class 'pandas.core.frame.DataFrame'>\n",
      "Index: 29 entries, 0 to 41\n",
      "Data columns (total 22 columns):\n",
      " #   Column            Non-Null Count  Dtype  \n",
      "---  ------            --------------  -----  \n",
      " 0   track_id          29 non-null     object \n",
      " 1   track_name        29 non-null     object \n",
      " 2   href              29 non-null     object \n",
      " 3   popularity        29 non-null     int64  \n",
      " 4   uri               29 non-null     object \n",
      " 5   album_id          29 non-null     object \n",
      " 6   duration          29 non-null     float64\n",
      " 7   loudness          29 non-null     float64\n",
      " 8   tempo             29 non-null     float64\n",
      " 9   time_signature    29 non-null     int64  \n",
      " 10  key               29 non-null     int64  \n",
      " 11  mode              29 non-null     int64  \n",
      " 12  acousticness      29 non-null     float64\n",
      " 13  energy            29 non-null     float64\n",
      " 14  danceability      29 non-null     float64\n",
      " 15  album_name        29 non-null     object \n",
      " 16  album_type        29 non-null     object \n",
      " 17  album_popularity  29 non-null     int64  \n",
      " 18  release_date      29 non-null     object \n",
      " 19  total_tracks      29 non-null     int64  \n",
      " 20  album_uri         29 non-null     object \n",
      " 21  album_href        29 non-null     object \n",
      "dtypes: float64(6), int64(6), object(10)\n",
      "memory usage: 5.2+ KB\n"
     ]
    }
   ],
   "source": [
    "track_album_data.info()"
   ]
  },
  {
   "cell_type": "markdown",
   "metadata": {},
   "source": [
    "### Map data for visualization"
   ]
  },
  {
   "cell_type": "code",
   "execution_count": 321,
   "metadata": {},
   "outputs": [],
   "source": [
    "track_data_visualize = track_album_data.copy()"
   ]
  },
  {
   "cell_type": "code",
   "execution_count": 322,
   "metadata": {},
   "outputs": [],
   "source": [
    "# following the definition provided by Spotify \n",
    "Mode = {\n",
    "    0 : \"Minor\",\n",
    "    1 : \"Major\"\n",
    "}\n",
    "\n",
    "Key = {\n",
    "    -1: \"No Key\",\n",
    "    0: \"C\",\n",
    "    1: \"C#/Db\",\n",
    "    2: \"D\",\n",
    "    3: \"D#/Eb\",\n",
    "    4: \"E\",\n",
    "    5: \"F\",\n",
    "    6: \"F#/Gb\",\n",
    "    7: \"G\",\n",
    "    8: \"G#/Ab\",\n",
    "    9: \"A\",\n",
    "    10: \"A#/Bb\",\n",
    "    11: \"B\"\n",
    "}"
   ]
  },
  {
   "cell_type": "code",
   "execution_count": 323,
   "metadata": {},
   "outputs": [],
   "source": [
    "# map mode and key to defined dictionary\n",
    "track_data_visualize[\"mode\"] = track_data_visualize[\"mode\"].map(Mode)\n",
    "track_data_visualize[\"key\"] = track_data_visualize[\"key\"].map(Key)"
   ]
  },
  {
   "cell_type": "code",
   "execution_count": 324,
   "metadata": {},
   "outputs": [],
   "source": [
    "# map time_signature (i.e. 3 -> 3/4)\n",
    "track_data_visualize[\"time_signature\"] = track_data_visualize[\"time_signature\"].apply(lambda x: int(x)).astype(str) + \"/4\""
   ]
  },
  {
   "cell_type": "code",
   "execution_count": 325,
   "metadata": {},
   "outputs": [
    {
     "data": {
      "text/html": [
       "<div>\n",
       "<style scoped>\n",
       "    .dataframe tbody tr th:only-of-type {\n",
       "        vertical-align: middle;\n",
       "    }\n",
       "\n",
       "    .dataframe tbody tr th {\n",
       "        vertical-align: top;\n",
       "    }\n",
       "\n",
       "    .dataframe thead th {\n",
       "        text-align: right;\n",
       "    }\n",
       "</style>\n",
       "<table border=\"1\" class=\"dataframe\">\n",
       "  <thead>\n",
       "    <tr style=\"text-align: right;\">\n",
       "      <th></th>\n",
       "      <th>mode</th>\n",
       "      <th>key</th>\n",
       "      <th>time_signature</th>\n",
       "    </tr>\n",
       "  </thead>\n",
       "  <tbody>\n",
       "    <tr>\n",
       "      <th>0</th>\n",
       "      <td>Major</td>\n",
       "      <td>A</td>\n",
       "      <td>4/4</td>\n",
       "    </tr>\n",
       "    <tr>\n",
       "      <th>1</th>\n",
       "      <td>Minor</td>\n",
       "      <td>F#/Gb</td>\n",
       "      <td>4/4</td>\n",
       "    </tr>\n",
       "    <tr>\n",
       "      <th>12</th>\n",
       "      <td>Major</td>\n",
       "      <td>C#/Db</td>\n",
       "      <td>4/4</td>\n",
       "    </tr>\n",
       "    <tr>\n",
       "      <th>13</th>\n",
       "      <td>Major</td>\n",
       "      <td>D</td>\n",
       "      <td>4/4</td>\n",
       "    </tr>\n",
       "    <tr>\n",
       "      <th>14</th>\n",
       "      <td>Minor</td>\n",
       "      <td>F</td>\n",
       "      <td>4/4</td>\n",
       "    </tr>\n",
       "  </tbody>\n",
       "</table>\n",
       "</div>"
      ],
      "text/plain": [
       "     mode    key time_signature\n",
       "0   Major      A            4/4\n",
       "1   Minor  F#/Gb            4/4\n",
       "12  Major  C#/Db            4/4\n",
       "13  Major      D            4/4\n",
       "14  Minor      F            4/4"
      ]
     },
     "execution_count": 325,
     "metadata": {},
     "output_type": "execute_result"
    }
   ],
   "source": [
    "track_data_visualize[[\"mode\",\"key\",\"time_signature\"]].head()"
   ]
  },
  {
   "cell_type": "code",
   "execution_count": 326,
   "metadata": {},
   "outputs": [],
   "source": [
    "# download cleaned data as .csv file\n",
    "track_data_visualize.to_csv(f\"track_data_cleaned.csv\")"
   ]
  },
  {
   "cell_type": "code",
   "execution_count": 327,
   "metadata": {},
   "outputs": [],
   "source": [
    "import csv\n",
    "\n",
    "with open(\"track_data_cleaned.csv\", newline='') as csvfile:\n",
    "    reader = csv.DictReader(csvfile)\n",
    "    data = [row for row in reader]\n",
    "import json\n",
    "import os\n",
    "\n",
    "with open(\"track_data_cleaned.json\", \"w\") as jsonfile:\n",
    "    json.dump(data, jsonfile)"
   ]
  },
  {
   "cell_type": "markdown",
   "metadata": {},
   "source": [
    "## Get artist's data"
   ]
  },
  {
   "cell_type": "code",
   "execution_count": 60,
   "metadata": {},
   "outputs": [
    {
     "data": {
      "text/plain": [
       "{'external_urls': {'spotify': 'https://open.spotify.com/artist/6bDWAcdtVR3WHz2xtiIPUi'},\n",
       " 'followers': {'href': None, 'total': 3256829},\n",
       " 'genres': ['japanese teen pop'],\n",
       " 'href': 'https://api.spotify.com/v1/artists/6bDWAcdtVR3WHz2xtiIPUi',\n",
       " 'id': '6bDWAcdtVR3WHz2xtiIPUi',\n",
       " 'images': [{'height': 640,\n",
       "   'url': 'https://i.scdn.co/image/ab6761610000e5ebc5a3e6e9027505f5cba5fdbc',\n",
       "   'width': 640},\n",
       "  {'height': 320,\n",
       "   'url': 'https://i.scdn.co/image/ab67616100005174c5a3e6e9027505f5cba5fdbc',\n",
       "   'width': 320},\n",
       "  {'height': 160,\n",
       "   'url': 'https://i.scdn.co/image/ab6761610000f178c5a3e6e9027505f5cba5fdbc',\n",
       "   'width': 160}],\n",
       " 'name': 'Fujii Kaze',\n",
       " 'popularity': 71,\n",
       " 'type': 'artist',\n",
       " 'uri': 'spotify:artist:6bDWAcdtVR3WHz2xtiIPUi'}"
      ]
     },
     "execution_count": 60,
     "metadata": {},
     "output_type": "execute_result"
    }
   ],
   "source": [
    "# call function get_artist() to extract artist data\n",
    "artist = get_artist(token, artist_id)\n",
    "artist"
   ]
  },
  {
   "cell_type": "code",
   "execution_count": 61,
   "metadata": {},
   "outputs": [],
   "source": [
    "artist_name = artist[\"name\"]\n",
    "followers = artist[\"followers\"][\"total\"]\n",
    "genres = artist[\"genres\"][0]\n",
    "artist_uri = artist[\"uri\"]\n",
    "artist_href = artist[\"href\"]"
   ]
  },
  {
   "cell_type": "code",
   "execution_count": 62,
   "metadata": {},
   "outputs": [],
   "source": [
    "artist_data = pd.DataFrame(data = [[artist_name, followers, genres, artist_uri, artist_href]], columns=[\"artist_name\", \"followers\", \" genres\", \"artist_uri\",\"artist_href\"])"
   ]
  },
  {
   "cell_type": "code",
   "execution_count": 63,
   "metadata": {},
   "outputs": [
    {
     "data": {
      "text/html": [
       "<div>\n",
       "<style scoped>\n",
       "    .dataframe tbody tr th:only-of-type {\n",
       "        vertical-align: middle;\n",
       "    }\n",
       "\n",
       "    .dataframe tbody tr th {\n",
       "        vertical-align: top;\n",
       "    }\n",
       "\n",
       "    .dataframe thead th {\n",
       "        text-align: right;\n",
       "    }\n",
       "</style>\n",
       "<table border=\"1\" class=\"dataframe\">\n",
       "  <thead>\n",
       "    <tr style=\"text-align: right;\">\n",
       "      <th></th>\n",
       "      <th>artist_name</th>\n",
       "      <th>followers</th>\n",
       "      <th>genres</th>\n",
       "      <th>artist_uri</th>\n",
       "      <th>artist_href</th>\n",
       "    </tr>\n",
       "  </thead>\n",
       "  <tbody>\n",
       "    <tr>\n",
       "      <th>0</th>\n",
       "      <td>Fujii Kaze</td>\n",
       "      <td>3256829</td>\n",
       "      <td>japanese teen pop</td>\n",
       "      <td>spotify:artist:6bDWAcdtVR3WHz2xtiIPUi</td>\n",
       "      <td>https://api.spotify.com/v1/artists/6bDWAcdtVR3...</td>\n",
       "    </tr>\n",
       "  </tbody>\n",
       "</table>\n",
       "</div>"
      ],
      "text/plain": [
       "  artist_name  followers             genres  \\\n",
       "0  Fujii Kaze    3256829  japanese teen pop   \n",
       "\n",
       "                              artist_uri  \\\n",
       "0  spotify:artist:6bDWAcdtVR3WHz2xtiIPUi   \n",
       "\n",
       "                                         artist_href  \n",
       "0  https://api.spotify.com/v1/artists/6bDWAcdtVR3...  "
      ]
     },
     "execution_count": 63,
     "metadata": {},
     "output_type": "execute_result"
    }
   ],
   "source": [
    "artist_data"
   ]
  },
  {
   "cell_type": "code",
   "execution_count": 64,
   "metadata": {},
   "outputs": [],
   "source": [
    "# download artist data as .csv file\n",
    "artist_data.to_csv(f\"{\tartist_name}.csv\")"
   ]
  }
 ],
 "metadata": {
  "kernelspec": {
   "display_name": "env",
   "language": "python",
   "name": "python3"
  },
  "language_info": {
   "codemirror_mode": {
    "name": "ipython",
    "version": 3
   },
   "file_extension": ".py",
   "mimetype": "text/x-python",
   "name": "python",
   "nbconvert_exporter": "python",
   "pygments_lexer": "ipython3",
   "version": "3.9.12"
  }
 },
 "nbformat": 4,
 "nbformat_minor": 2
}
